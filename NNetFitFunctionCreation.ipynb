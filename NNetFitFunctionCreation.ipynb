{
 "cells": [
  {
   "cell_type": "code",
   "execution_count": 981,
   "metadata": {},
   "outputs": [],
   "source": [
    "from sklearn.preprocessing import StandardScaler\n",
    "from sklearn.model_selection import train_test_split\n",
    "import matplotlib.pyplot as plt\n",
    "\n",
    "from tensorflow.keras.models import Sequential\n",
    "from tensorflow.keras.layers import Dense,Dropout\n",
    "from tensorflow.keras.utils import to_categorical\n",
    "from sklearn.preprocessing import OneHotEncoder"
   ]
  },
  {
   "cell_type": "code",
   "execution_count": 982,
   "metadata": {},
   "outputs": [],
   "source": [
    "import pandas as pd\n",
    "import numpy as np"
   ]
  },
  {
   "cell_type": "code",
   "execution_count": 983,
   "metadata": {},
   "outputs": [],
   "source": [
    "mlbx=pd.read_csv('./data/mlbxdb.csv')"
   ]
  },
  {
   "cell_type": "code",
   "execution_count": 905,
   "metadata": {},
   "outputs": [
    {
     "data": {
      "text/plain": [
       "(506695, 165)"
      ]
     },
     "execution_count": 905,
     "metadata": {},
     "output_type": "execute_result"
    }
   ],
   "source": [
    "mlbx.shape"
   ]
  },
  {
   "cell_type": "code",
   "execution_count": 906,
   "metadata": {},
   "outputs": [],
   "source": [
    "#create a variable to help model understand opposite handed hitters have historically done better\n",
    "mlbx['isoppo']=(mlbx['stand']!=mlbx['p_throws']).astype(int)*1000"
   ]
  },
  {
   "cell_type": "code",
   "execution_count": 907,
   "metadata": {},
   "outputs": [
    {
     "data": {
      "text/plain": [
       "1000    271807\n",
       "0       234888\n",
       "Name: isoppo, dtype: int64"
      ]
     },
     "execution_count": 907,
     "metadata": {},
     "output_type": "execute_result"
    }
   ],
   "source": [
    "mlbx['isoppo'].value_counts()"
   ]
  },
  {
   "cell_type": "code",
   "execution_count": 908,
   "metadata": {},
   "outputs": [],
   "source": [
    "features=['stand','p_throws', 'season','isoppo',\n",
    "          'hBB%','hK%','hSpd','hPull%','hGB%','hLD%','hFB%','hBABIP','hwOBA','hSoft%', 'hMed%', 'hHard%','hHR/FB',\n",
    "          'havg_hit_angle','hmax_hit_speed', 'havg_hit_speed', 'hfbld','hgb','hev95percent',\n",
    "          'pBB%','pK%','pPull%','pGB%','pLD%','pFB%','pBABIP','pSIERA','pSoft%', 'pMed%', 'pHard%','pHR/FB',\n",
    "          'pavg_hit_angle','pmax_hit_speed', 'pavg_hit_speed', 'pfbld','pgb','pev95percent']"
   ]
  },
  {
   "cell_type": "code",
   "execution_count": 909,
   "metadata": {},
   "outputs": [
    {
     "data": {
      "text/plain": [
       "GB     0.231350\n",
       "K      0.209071\n",
       "1B     0.152180\n",
       "FB     0.115111\n",
       "BB     0.085414\n",
       "LD     0.063058\n",
       "PU     0.049720\n",
       "2B     0.046857\n",
       "HR     0.032923\n",
       "HBP    0.009623\n",
       "3B     0.004693\n",
       "Name: event, dtype: float64"
      ]
     },
     "execution_count": 909,
     "metadata": {},
     "output_type": "execute_result"
    }
   ],
   "source": [
    "mlbx['event'].value_counts(normalize=True)"
   ]
  },
  {
   "cell_type": "code",
   "execution_count": 910,
   "metadata": {},
   "outputs": [],
   "source": [
    "X=mlbx[features]\n",
    "y=mlbx['event']"
   ]
  },
  {
   "cell_type": "code",
   "execution_count": 911,
   "metadata": {},
   "outputs": [],
   "source": [
    "#scale x and y data\n",
    "ss=StandardScaler()\n",
    "Xsc=ss.fit_transform(X)"
   ]
  },
  {
   "cell_type": "code",
   "execution_count": 912,
   "metadata": {},
   "outputs": [],
   "source": [
    "#reshape x and y into the proper format to feed to a neural network\n",
    "y=pd.DataFrame(columns=y.unique()) \n",
    "for i in y:\n",
    "    y[i]=(mlbx['event']==i).astype(int)"
   ]
  },
  {
   "cell_type": "code",
   "execution_count": 913,
   "metadata": {},
   "outputs": [
    {
     "data": {
      "text/html": [
       "<div>\n",
       "<style scoped>\n",
       "    .dataframe tbody tr th:only-of-type {\n",
       "        vertical-align: middle;\n",
       "    }\n",
       "\n",
       "    .dataframe tbody tr th {\n",
       "        vertical-align: top;\n",
       "    }\n",
       "\n",
       "    .dataframe thead th {\n",
       "        text-align: right;\n",
       "    }\n",
       "</style>\n",
       "<table border=\"1\" class=\"dataframe\">\n",
       "  <thead>\n",
       "    <tr style=\"text-align: right;\">\n",
       "      <th></th>\n",
       "      <th>GB</th>\n",
       "      <th>2B</th>\n",
       "      <th>1B</th>\n",
       "      <th>K</th>\n",
       "      <th>BB</th>\n",
       "      <th>PU</th>\n",
       "      <th>FB</th>\n",
       "      <th>LD</th>\n",
       "      <th>HR</th>\n",
       "      <th>HBP</th>\n",
       "      <th>3B</th>\n",
       "    </tr>\n",
       "  </thead>\n",
       "  <tbody>\n",
       "    <tr>\n",
       "      <th>0</th>\n",
       "      <td>1</td>\n",
       "      <td>0</td>\n",
       "      <td>0</td>\n",
       "      <td>0</td>\n",
       "      <td>0</td>\n",
       "      <td>0</td>\n",
       "      <td>0</td>\n",
       "      <td>0</td>\n",
       "      <td>0</td>\n",
       "      <td>0</td>\n",
       "      <td>0</td>\n",
       "    </tr>\n",
       "    <tr>\n",
       "      <th>1</th>\n",
       "      <td>0</td>\n",
       "      <td>1</td>\n",
       "      <td>0</td>\n",
       "      <td>0</td>\n",
       "      <td>0</td>\n",
       "      <td>0</td>\n",
       "      <td>0</td>\n",
       "      <td>0</td>\n",
       "      <td>0</td>\n",
       "      <td>0</td>\n",
       "      <td>0</td>\n",
       "    </tr>\n",
       "    <tr>\n",
       "      <th>2</th>\n",
       "      <td>0</td>\n",
       "      <td>0</td>\n",
       "      <td>1</td>\n",
       "      <td>0</td>\n",
       "      <td>0</td>\n",
       "      <td>0</td>\n",
       "      <td>0</td>\n",
       "      <td>0</td>\n",
       "      <td>0</td>\n",
       "      <td>0</td>\n",
       "      <td>0</td>\n",
       "    </tr>\n",
       "    <tr>\n",
       "      <th>3</th>\n",
       "      <td>0</td>\n",
       "      <td>0</td>\n",
       "      <td>0</td>\n",
       "      <td>1</td>\n",
       "      <td>0</td>\n",
       "      <td>0</td>\n",
       "      <td>0</td>\n",
       "      <td>0</td>\n",
       "      <td>0</td>\n",
       "      <td>0</td>\n",
       "      <td>0</td>\n",
       "    </tr>\n",
       "    <tr>\n",
       "      <th>4</th>\n",
       "      <td>0</td>\n",
       "      <td>0</td>\n",
       "      <td>1</td>\n",
       "      <td>0</td>\n",
       "      <td>0</td>\n",
       "      <td>0</td>\n",
       "      <td>0</td>\n",
       "      <td>0</td>\n",
       "      <td>0</td>\n",
       "      <td>0</td>\n",
       "      <td>0</td>\n",
       "    </tr>\n",
       "    <tr>\n",
       "      <th>...</th>\n",
       "      <td>...</td>\n",
       "      <td>...</td>\n",
       "      <td>...</td>\n",
       "      <td>...</td>\n",
       "      <td>...</td>\n",
       "      <td>...</td>\n",
       "      <td>...</td>\n",
       "      <td>...</td>\n",
       "      <td>...</td>\n",
       "      <td>...</td>\n",
       "      <td>...</td>\n",
       "    </tr>\n",
       "    <tr>\n",
       "      <th>506690</th>\n",
       "      <td>0</td>\n",
       "      <td>0</td>\n",
       "      <td>0</td>\n",
       "      <td>0</td>\n",
       "      <td>0</td>\n",
       "      <td>1</td>\n",
       "      <td>0</td>\n",
       "      <td>0</td>\n",
       "      <td>0</td>\n",
       "      <td>0</td>\n",
       "      <td>0</td>\n",
       "    </tr>\n",
       "    <tr>\n",
       "      <th>506691</th>\n",
       "      <td>0</td>\n",
       "      <td>0</td>\n",
       "      <td>0</td>\n",
       "      <td>0</td>\n",
       "      <td>0</td>\n",
       "      <td>0</td>\n",
       "      <td>1</td>\n",
       "      <td>0</td>\n",
       "      <td>0</td>\n",
       "      <td>0</td>\n",
       "      <td>0</td>\n",
       "    </tr>\n",
       "    <tr>\n",
       "      <th>506692</th>\n",
       "      <td>0</td>\n",
       "      <td>0</td>\n",
       "      <td>1</td>\n",
       "      <td>0</td>\n",
       "      <td>0</td>\n",
       "      <td>0</td>\n",
       "      <td>0</td>\n",
       "      <td>0</td>\n",
       "      <td>0</td>\n",
       "      <td>0</td>\n",
       "      <td>0</td>\n",
       "    </tr>\n",
       "    <tr>\n",
       "      <th>506693</th>\n",
       "      <td>0</td>\n",
       "      <td>0</td>\n",
       "      <td>0</td>\n",
       "      <td>0</td>\n",
       "      <td>0</td>\n",
       "      <td>0</td>\n",
       "      <td>1</td>\n",
       "      <td>0</td>\n",
       "      <td>0</td>\n",
       "      <td>0</td>\n",
       "      <td>0</td>\n",
       "    </tr>\n",
       "    <tr>\n",
       "      <th>506694</th>\n",
       "      <td>0</td>\n",
       "      <td>0</td>\n",
       "      <td>0</td>\n",
       "      <td>1</td>\n",
       "      <td>0</td>\n",
       "      <td>0</td>\n",
       "      <td>0</td>\n",
       "      <td>0</td>\n",
       "      <td>0</td>\n",
       "      <td>0</td>\n",
       "      <td>0</td>\n",
       "    </tr>\n",
       "  </tbody>\n",
       "</table>\n",
       "<p>506695 rows × 11 columns</p>\n",
       "</div>"
      ],
      "text/plain": [
       "        GB  2B  1B  K  BB  PU  FB  LD  HR  HBP  3B\n",
       "0        1   0   0  0   0   0   0   0   0    0   0\n",
       "1        0   1   0  0   0   0   0   0   0    0   0\n",
       "2        0   0   1  0   0   0   0   0   0    0   0\n",
       "3        0   0   0  1   0   0   0   0   0    0   0\n",
       "4        0   0   1  0   0   0   0   0   0    0   0\n",
       "...     ..  ..  .. ..  ..  ..  ..  ..  ..  ...  ..\n",
       "506690   0   0   0  0   0   1   0   0   0    0   0\n",
       "506691   0   0   0  0   0   0   1   0   0    0   0\n",
       "506692   0   0   1  0   0   0   0   0   0    0   0\n",
       "506693   0   0   0  0   0   0   1   0   0    0   0\n",
       "506694   0   0   0  1   0   0   0   0   0    0   0\n",
       "\n",
       "[506695 rows x 11 columns]"
      ]
     },
     "execution_count": 913,
     "metadata": {},
     "output_type": "execute_result"
    }
   ],
   "source": [
    "y"
   ]
  },
  {
   "cell_type": "code",
   "execution_count": 914,
   "metadata": {},
   "outputs": [
    {
     "data": {
      "text/plain": [
       "(506695, 11)"
      ]
     },
     "execution_count": 914,
     "metadata": {},
     "output_type": "execute_result"
    }
   ],
   "source": [
    "y.shape"
   ]
  },
  {
   "cell_type": "code",
   "execution_count": 915,
   "metadata": {},
   "outputs": [
    {
     "data": {
      "text/plain": [
       "(506695, 41)"
      ]
     },
     "execution_count": 915,
     "metadata": {},
     "output_type": "execute_result"
    }
   ],
   "source": [
    "X.shape"
   ]
  },
  {
   "cell_type": "code",
   "execution_count": 916,
   "metadata": {},
   "outputs": [],
   "source": [
    "X.shape\n",
    "sh=X.shape[1]"
   ]
  },
  {
   "cell_type": "code",
   "execution_count": 917,
   "metadata": {},
   "outputs": [],
   "source": [
    "#create neural network\n",
    "model=Sequential()\n",
    "model.add(Dense(4_000, activation=\"relu\", input_shape=(sh,)))\n",
    "model.add(Dropout(.5))\n",
    "model.add(Dense(800, activation=\"relu\"))\n",
    "model.add(Dropout(.5))\n",
    "model.add(Dense(300, activation=\"relu\"))\n",
    "model.add(Dropout(.5))\n",
    "model.add(Dense(100, activation=\"relu\"))\n",
    "model.add(Dropout(.5))\n",
    "model.add(Dense(20, activation=\"relu\"))\n",
    "model.add(Dropout(.5))\n",
    "model.add(Dense(11, activation=\"softmax\"))"
   ]
  },
  {
   "cell_type": "code",
   "execution_count": 918,
   "metadata": {},
   "outputs": [],
   "source": [
    "#compile model\n",
    "model.compile(\n",
    "    optimizer=\"adam\",\n",
    "    loss=\"categorical_crossentropy\",\n",
    "    metrics=['categorical_accuracy']\n",
    ")"
   ]
  },
  {
   "cell_type": "code",
   "execution_count": 919,
   "metadata": {
    "scrolled": false
   },
   "outputs": [
    {
     "name": "stdout",
     "output_type": "stream",
     "text": [
      "Epoch 1/12\n",
      "891/891 [==============================] - 49s 55ms/step - loss: 2.1018 - categorical_accuracy: 0.2391 - val_loss: 2.0495 - val_categorical_accuracy: 0.2691\n",
      "Epoch 2/12\n",
      "891/891 [==============================] - 50s 56ms/step - loss: 2.0511 - categorical_accuracy: 0.2607 - val_loss: 2.0431 - val_categorical_accuracy: 0.2685\n",
      "Epoch 3/12\n",
      "891/891 [==============================] - 51s 58ms/step - loss: 2.0425 - categorical_accuracy: 0.2643 - val_loss: 2.0402 - val_categorical_accuracy: 0.2688\n",
      "Epoch 4/12\n",
      "891/891 [==============================] - 50s 57ms/step - loss: 2.0386 - categorical_accuracy: 0.2649 - val_loss: 2.0377 - val_categorical_accuracy: 0.2678\n",
      "Epoch 5/12\n",
      "891/891 [==============================] - 51s 57ms/step - loss: 2.0369 - categorical_accuracy: 0.2666 - val_loss: 2.0375 - val_categorical_accuracy: 0.2686\n",
      "Epoch 6/12\n",
      "891/891 [==============================] - 51s 57ms/step - loss: 2.0352 - categorical_accuracy: 0.2666 - val_loss: 2.0382 - val_categorical_accuracy: 0.2688\n",
      "Epoch 7/12\n",
      "891/891 [==============================] - 51s 57ms/step - loss: 2.0345 - categorical_accuracy: 0.2667 - val_loss: 2.0388 - val_categorical_accuracy: 0.2671\n",
      "Epoch 8/12\n",
      "891/891 [==============================] - 51s 57ms/step - loss: 2.0344 - categorical_accuracy: 0.2676 - val_loss: 2.0380 - val_categorical_accuracy: 0.2689\n",
      "Epoch 9/12\n",
      "891/891 [==============================] - 51s 57ms/step - loss: 2.0338 - categorical_accuracy: 0.2677 - val_loss: 2.0370 - val_categorical_accuracy: 0.2681\n",
      "Epoch 10/12\n",
      "891/891 [==============================] - 51s 57ms/step - loss: 2.0329 - categorical_accuracy: 0.2678 - val_loss: 2.0379 - val_categorical_accuracy: 0.2709\n",
      "Epoch 11/12\n",
      "891/891 [==============================] - 51s 57ms/step - loss: 2.0330 - categorical_accuracy: 0.2683 - val_loss: 2.0374 - val_categorical_accuracy: 0.2695\n",
      "Epoch 12/12\n",
      "891/891 [==============================] - 50s 56ms/step - loss: 2.0327 - categorical_accuracy: 0.2681 - val_loss: 2.0378 - val_categorical_accuracy: 0.2683\n"
     ]
    },
    {
     "data": {
      "text/plain": [
       "<tensorflow.python.keras.callbacks.History at 0x1a4b231610>"
      ]
     },
     "execution_count": 919,
     "metadata": {},
     "output_type": "execute_result"
    }
   ],
   "source": [
    "model.fit(\n",
    "    Xsc, y,\n",
    "    batch_size=512,\n",
    "    epochs=12,\n",
    "    validation_split=0.1\n",
    ")"
   ]
  },
  {
   "cell_type": "code",
   "execution_count": 920,
   "metadata": {},
   "outputs": [
    {
     "data": {
      "text/plain": [
       "stand                0.000\n",
       "p_throws             0.000\n",
       "season            2015.000\n",
       "isoppo               0.000\n",
       "hBB%                 0.122\n",
       "hK%                  0.227\n",
       "hSpd                 3.800\n",
       "hPull%               0.393\n",
       "hGB%                 0.297\n",
       "hLD%                 0.285\n",
       "hFB%                 0.417\n",
       "hBABIP               0.321\n",
       "hwOBA                0.372\n",
       "hSoft%               0.112\n",
       "hMed%                0.518\n",
       "hHard%               0.370\n",
       "hHR/FB               0.158\n",
       "havg_hit_angle      17.000\n",
       "hmax_hit_speed     109.500\n",
       "havg_hit_speed      88.600\n",
       "hfbld               91.600\n",
       "hgb                 83.000\n",
       "hev95percent        36.100\n",
       "pBB%                 0.057\n",
       "pK%                  0.250\n",
       "pPull%               0.387\n",
       "pGB%                 0.489\n",
       "pLD%                 0.218\n",
       "pFB%                 0.293\n",
       "pBABIP               0.303\n",
       "pSIERA               3.190\n",
       "pSoft%               0.214\n",
       "pMed%                0.497\n",
       "pHard%               0.290\n",
       "pHR/FB               0.099\n",
       "pavg_hit_angle       8.600\n",
       "pmax_hit_speed     115.000\n",
       "pavg_hit_speed      85.800\n",
       "pfbld               90.400\n",
       "pgb                 83.700\n",
       "pev95percent        28.100\n",
       "Name: 0, dtype: float64"
      ]
     },
     "execution_count": 920,
     "metadata": {},
     "output_type": "execute_result"
    }
   ],
   "source": [
    "#check out one input vector\n",
    "X.loc[0,:]"
   ]
  },
  {
   "cell_type": "code",
   "execution_count": 921,
   "metadata": {},
   "outputs": [
    {
     "data": {
      "text/plain": [
       "pitcher_name        Jon Lester\n",
       "batter_name     Matt Carpenter\n",
       "inning_side                top\n",
       "inning                       1\n",
       "stand                        0\n",
       "p_throws                     0\n",
       "event                       GB\n",
       "date                2015-04-05\n",
       "season                    2015\n",
       "away_team                  sln\n",
       "home_team                  chn\n",
       "pitcher_team               chn\n",
       "Name: 0, dtype: object"
      ]
     },
     "execution_count": 921,
     "metadata": {},
     "output_type": "execute_result"
    }
   ],
   "source": [
    "mlbx.iloc[0,0:12]"
   ]
  },
  {
   "cell_type": "code",
   "execution_count": 984,
   "metadata": {},
   "outputs": [],
   "source": [
    "#read in initial player statistical data\n",
    "FH=pd.read_csv('./data/CleanedPlayerData/MergedHitters.csv')\n",
    "FP=pd.read_csv('./data/CleanedPlayerData/MergedPitchers.csv')"
   ]
  },
  {
   "cell_type": "code",
   "execution_count": 923,
   "metadata": {},
   "outputs": [],
   "source": [
    "#convert percentage data from a string to usable data format\n",
    "pctcols=[i for i in FH.columns if '%' in i]\n",
    "for i in pctcols:\n",
    "    FH[i]=FH[i].str.replace('%','').astype(float)/100\n",
    "pctcols=[i for i in FP.columns if '%' in i]\n",
    "for i in pctcols:\n",
    "    FP[i]=FP[i].str.replace('%','').astype(float)/100\n",
    "FH['hHR/FB']=FH['hHR/FB'].str.replace('%','').astype(float)/100\n",
    "FP['pHR/FB']=FP['pHR/FB'].str.replace('%','').astype(float)/100"
   ]
  },
  {
   "cell_type": "code",
   "execution_count": 924,
   "metadata": {},
   "outputs": [],
   "source": [
    "def construct_input(atts,parr,harr):\n",
    "    '''\n",
    "    This function takes in a descriptive vector, a batter stats vector, and a hitter stats vector, \n",
    "    and constructs them into the correct data format to be fed into a fit neural network model to make predictions\n",
    "    '''\n",
    "    atts[2]=float(atts[2])\n",
    "    features=['stand','p_throws', 'season', 'isoppo',\n",
    "          'hBB%','hK%','hSpd','hPull%','hGB%','hLD%','hFB%','hBABIP','hwOBA','hSoft%', 'hMed%', 'hHard%','hHR/FB',\n",
    "          'havg_hit_angle','hmax_hit_speed', 'havg_hit_speed', 'hfbld','hgb','hev95percent',\n",
    "          'pBB%','pK%','pPull%','pGB%','pLD%','pFB%','pBABIP','pSIERA','pSoft%', 'pMed%', 'pHard%','pHR/FB',\n",
    "          'pavg_hit_angle','pmax_hit_speed', 'pavg_hit_speed', 'pfbld','pgb','pev95percent']\n",
    "    hfeats=['hBB%','hK%','hSpd','hPull%','hGB%','hLD%','hFB%','hBABIP','hwOBA','hSoft%', 'hMed%', 'hHard%','hHR/FB',\n",
    "          'havg_hit_angle','hmax_hit_speed', 'havg_hit_speed', 'hfbld','hgb','hev95percent']\n",
    "    pfeats=['pBB%','pK%','pPull%','pGB%','pLD%','pFB%','pBABIP','pSIERA','pSoft%', 'pMed%', 'pHard%','pHR/FB',\n",
    "          'pavg_hit_angle','pmax_hit_speed', 'pavg_hit_speed', 'pfbld','pgb','pev95percent']\n",
    "    data_z=np.zeros((1,4))\n",
    "    df=pd.DataFrame(data=data_z,columns=features[0:4])\n",
    "    df.loc[0,'stand']=atts[0]\n",
    "    df.loc[0,'p_throws']=atts[1]\n",
    "    df.loc[0,'season']=atts[2]\n",
    "    df.loc[0,'isoppo']=atts[3]\n",
    "    for i in hfeats:\n",
    "        df[i]=harr[i].values\n",
    "    for i in pfeats:\n",
    "        df[i]=parr[i].values\n",
    "    return df"
   ]
  },
  {
   "cell_type": "code",
   "execution_count": 947,
   "metadata": {},
   "outputs": [],
   "source": [
    "def simAB(pitcher,hitter,ispRH=True,isbRH=True,pseason=2019,hseason=2019,season=2019,output=('probs',0)):\n",
    "    '''\n",
    "    This function takes a batter name and a pitcher name and simulates the interaction of those two players. \n",
    "    The function requires specification of if either party is left-handed. \n",
    "    The function can be customized in the following ways: \n",
    "    \n",
    "    pseason: The season in which the named pitcher's data \n",
    "    is pulled from so at bats from past versions of players can be simulated\n",
    "    \n",
    "    hseason: Same as above, but for the hitter\n",
    "    \n",
    "    season: The season in which the interaction takes place can be specified, as different years have \n",
    "    different baseline occurrence rates for each event\n",
    "    \n",
    "    output: This tuple formats the output of the function\n",
    "    Term 1 can be one of three values.\n",
    "    1. 'probs' will give a probability distribution of each event of the simulated at bat\n",
    "    2. 'pa' will simulate one plate appearance randomly using the above distribution and give a result\n",
    "    3. 'statline' will summarize this output into more common baseball statistics\n",
    "    \n",
    "    Term 2 is the number of at bats over which this simulation occurs. \n",
    "    'probs' will not change regardless of this number \n",
    "    '''\n",
    "    pitcher=FP[(FP['pName']==pitcher)&(FP['pseason']==pseason)]\n",
    "    hitter=FH[(FH['hName']==hitter)&(FH['hseason']==hseason)]\n",
    "    atts=[int(isbRH),int(ispRH),season]\n",
    "    atts.append(int(ispRH!=isbRH)*1000)\n",
    "    feats_arr=construct_input(atts,pitcher,hitter)\n",
    "    feats_sc=ss.transform(feats_arr)\n",
    "    preds=model.predict(feats_sc)\n",
    "    preds_clean=np.round(preds,3)\n",
    "    cols=['GB', '2B', '1B', 'K', 'BB', 'PU', 'FB', 'LD', 'HR', 'HBP', '3B']\n",
    "    if output[0]=='probs':\n",
    "        df=pd.DataFrame(data=preds_clean,columns=cols)\n",
    "        return df\n",
    "    elif output[0]=='statline' or output[0]=='pa':\n",
    "        p=(preds_clean[0][0::])\n",
    "        pnew=[round(i,2) for i in p]\n",
    "        pnew[0]=round(1-np.sum(pnew[1::]),2)\n",
    "        if output[0]=='pa':\n",
    "            samps=np.random.choice(a=cols,size=(output[1],1),p=pnew)\n",
    "            return samps\n",
    "        elif output[0]=='statline':\n",
    "            samps=list(np.random.choice(a=cols,size=(output[1]),p=pnew))   \n",
    "            pa=output[1]\n",
    "            ab=pa-samps.count('BB')-samps.count('HBP')\n",
    "            outpa=ab-samps.count('1B')-samps.count('2B')-samps.count('3B')-samps.count('HR')\n",
    "            ip=float(round(outpa/3,0))+float((outpa%3)/10)\n",
    "            ba=round((samps.count('1B')+samps.count('2B')+samps.count('3B')+samps.count('HR'))/ab,3)\n",
    "            hr=samps.count('HR')\n",
    "            db=samps.count('2B')\n",
    "            slg=round(((samps.count('1B')+(2*samps.count('2B'))+(3*samps.count('3B'))+(4*samps.count('HR')))/ab),3)\n",
    "            obp=round((samps.count('1B')+samps.count('2B')+samps.count('3B')+samps.count('HR')+samps.count('BB'))/pa,3)\n",
    "            ops=round(slg+obp,3)\n",
    "            babip_pa=pa-samps.count('BB')-samps.count('HBP')-samps.count('K')-samps.count('HR')\n",
    "            babip=round(((samps.count('1B')+samps.count('2B')+samps.count('3B'))/babip_pa),3)\n",
    "            k=samps.count('K')\n",
    "            bb=samps.count('BB')\n",
    "            whip=round((samps.count('1B')+samps.count('2B')+samps.count('3B')+samps.count('HR')+samps.count('BB'))/ip,2)\n",
    "            statcols=['PA','BA','HR','2B','SLG','OBP','oPS','BABIP','K','BB','pIP','pWHIP']\n",
    "            data=[[pa,ba,hr,db,slg,obp,ops,babip,k,bb,ip,whip]]\n",
    "            df=pd.DataFrame(data=data,columns=statcols)\n",
    "            return df"
   ]
  },
  {
   "cell_type": "code",
   "execution_count": 948,
   "metadata": {
    "scrolled": false
   },
   "outputs": [
    {
     "data": {
      "text/html": [
       "<div>\n",
       "<style scoped>\n",
       "    .dataframe tbody tr th:only-of-type {\n",
       "        vertical-align: middle;\n",
       "    }\n",
       "\n",
       "    .dataframe tbody tr th {\n",
       "        vertical-align: top;\n",
       "    }\n",
       "\n",
       "    .dataframe thead th {\n",
       "        text-align: right;\n",
       "    }\n",
       "</style>\n",
       "<table border=\"1\" class=\"dataframe\">\n",
       "  <thead>\n",
       "    <tr style=\"text-align: right;\">\n",
       "      <th></th>\n",
       "      <th>PA</th>\n",
       "      <th>BA</th>\n",
       "      <th>HR</th>\n",
       "      <th>2B</th>\n",
       "      <th>SLG</th>\n",
       "      <th>OBP</th>\n",
       "      <th>oPS</th>\n",
       "      <th>BABIP</th>\n",
       "      <th>K</th>\n",
       "      <th>BB</th>\n",
       "      <th>pIP</th>\n",
       "      <th>pWHIP</th>\n",
       "    </tr>\n",
       "  </thead>\n",
       "  <tbody>\n",
       "    <tr>\n",
       "      <th>0</th>\n",
       "      <td>6000</td>\n",
       "      <td>0.261</td>\n",
       "      <td>227</td>\n",
       "      <td>303</td>\n",
       "      <td>0.442</td>\n",
       "      <td>0.32</td>\n",
       "      <td>0.762</td>\n",
       "      <td>0.277</td>\n",
       "      <td>902</td>\n",
       "      <td>496</td>\n",
       "      <td>1339.0</td>\n",
       "      <td>1.43</td>\n",
       "    </tr>\n",
       "  </tbody>\n",
       "</table>\n",
       "</div>"
      ],
      "text/plain": [
       "     PA     BA   HR   2B    SLG   OBP    oPS  BABIP    K   BB     pIP  pWHIP\n",
       "0  6000  0.261  227  303  0.442  0.32  0.762  0.277  902  496  1339.0   1.43"
      ]
     },
     "execution_count": 948,
     "metadata": {},
     "output_type": "execute_result"
    }
   ],
   "source": [
    "simAB('Ryan Carpenter','Anthony Rendon',isbRH=False,output=('statline',6_000))"
   ]
  },
  {
   "cell_type": "code",
   "execution_count": 963,
   "metadata": {},
   "outputs": [
    {
     "data": {
      "text/html": [
       "<div>\n",
       "<style scoped>\n",
       "    .dataframe tbody tr th:only-of-type {\n",
       "        vertical-align: middle;\n",
       "    }\n",
       "\n",
       "    .dataframe tbody tr th {\n",
       "        vertical-align: top;\n",
       "    }\n",
       "\n",
       "    .dataframe thead th {\n",
       "        text-align: right;\n",
       "    }\n",
       "</style>\n",
       "<table border=\"1\" class=\"dataframe\">\n",
       "  <thead>\n",
       "    <tr style=\"text-align: right;\">\n",
       "      <th></th>\n",
       "      <th>GB</th>\n",
       "      <th>2B</th>\n",
       "      <th>1B</th>\n",
       "      <th>K</th>\n",
       "      <th>BB</th>\n",
       "      <th>PU</th>\n",
       "      <th>FB</th>\n",
       "      <th>LD</th>\n",
       "      <th>HR</th>\n",
       "      <th>HBP</th>\n",
       "      <th>3B</th>\n",
       "    </tr>\n",
       "  </thead>\n",
       "  <tbody>\n",
       "    <tr>\n",
       "      <th>0</th>\n",
       "      <td>0.197</td>\n",
       "      <td>0.04</td>\n",
       "      <td>0.127</td>\n",
       "      <td>0.298</td>\n",
       "      <td>0.101</td>\n",
       "      <td>0.041</td>\n",
       "      <td>0.098</td>\n",
       "      <td>0.05</td>\n",
       "      <td>0.035</td>\n",
       "      <td>0.01</td>\n",
       "      <td>0.003</td>\n",
       "    </tr>\n",
       "  </tbody>\n",
       "</table>\n",
       "</div>"
      ],
      "text/plain": [
       "      GB    2B     1B      K     BB     PU     FB    LD     HR   HBP     3B\n",
       "0  0.197  0.04  0.127  0.298  0.101  0.041  0.098  0.05  0.035  0.01  0.003"
      ]
     },
     "execution_count": 963,
     "metadata": {},
     "output_type": "execute_result"
    }
   ],
   "source": [
    "simAB('Shane Bieber','Miguel Sano',output=('probs',0))"
   ]
  },
  {
   "cell_type": "code",
   "execution_count": 973,
   "metadata": {
    "scrolled": true
   },
   "outputs": [
    {
     "data": {
      "image/png": "[encoded data removed]",
      "text/plain": [
       "<Figure size 1080x720 with 1 Axes>"
      ]
     },
     "metadata": {
      "needs_background": "light"
     },
     "output_type": "display_data"
    }
   ],
   "source": [
    "a=list(simAB('Shane Bieber','Miguel Sano',output=('probs',0)).values[0][0::])\n",
    "c=simAB('Shane Bieber','Miguel Sano',output=('probs',0)).columns\n",
    "plt.figure(figsize=(15,10))\n",
    "plt.bar(c,a);\n",
    "plt.title('Shane Bieber v. Miguel Sano Outcomes')\n",
    "plt.ylabel('Percent');"
   ]
  },
  {
   "cell_type": "code",
   "execution_count": 974,
   "metadata": {},
   "outputs": [
    {
     "data": {
      "text/plain": [
       "array([['1B'],\n",
       "       ['GB'],\n",
       "       ['BB'],\n",
       "       ['BB'],\n",
       "       ['GB'],\n",
       "       ['PU'],\n",
       "       ['BB'],\n",
       "       ['FB'],\n",
       "       ['GB'],\n",
       "       ['K']], dtype='<U3')"
      ]
     },
     "execution_count": 974,
     "metadata": {},
     "output_type": "execute_result"
    }
   ],
   "source": [
    "simAB('Shane Bieber','Miguel Sano',output=('pa',10))"
   ]
  },
  {
   "cell_type": "code",
   "execution_count": 980,
   "metadata": {},
   "outputs": [
    {
     "data": {
      "text/html": [
       "<div>\n",
       "<style scoped>\n",
       "    .dataframe tbody tr th:only-of-type {\n",
       "        vertical-align: middle;\n",
       "    }\n",
       "\n",
       "    .dataframe tbody tr th {\n",
       "        vertical-align: top;\n",
       "    }\n",
       "\n",
       "    .dataframe thead th {\n",
       "        text-align: right;\n",
       "    }\n",
       "</style>\n",
       "<table border=\"1\" class=\"dataframe\">\n",
       "  <thead>\n",
       "    <tr style=\"text-align: right;\">\n",
       "      <th></th>\n",
       "      <th>PA</th>\n",
       "      <th>BA</th>\n",
       "      <th>HR</th>\n",
       "      <th>2B</th>\n",
       "      <th>SLG</th>\n",
       "      <th>OBP</th>\n",
       "      <th>oPS</th>\n",
       "      <th>BABIP</th>\n",
       "      <th>K</th>\n",
       "      <th>BB</th>\n",
       "      <th>pIP</th>\n",
       "      <th>pWHIP</th>\n",
       "    </tr>\n",
       "  </thead>\n",
       "  <tbody>\n",
       "    <tr>\n",
       "      <th>0</th>\n",
       "      <td>600</td>\n",
       "      <td>0.214</td>\n",
       "      <td>33</td>\n",
       "      <td>14</td>\n",
       "      <td>0.426</td>\n",
       "      <td>0.288</td>\n",
       "      <td>0.714</td>\n",
       "      <td>0.257</td>\n",
       "      <td>185</td>\n",
       "      <td>59</td>\n",
       "      <td>140.2</td>\n",
       "      <td>1.23</td>\n",
       "    </tr>\n",
       "  </tbody>\n",
       "</table>\n",
       "</div>"
      ],
      "text/plain": [
       "    PA     BA  HR  2B    SLG    OBP    oPS  BABIP    K  BB    pIP  pWHIP\n",
       "0  600  0.214  33  14  0.426  0.288  0.714  0.257  185  59  140.2   1.23"
      ]
     },
     "execution_count": 980,
     "metadata": {},
     "output_type": "execute_result"
    }
   ],
   "source": [
    "simAB('Shane Bieber','Miguel Sano',output=('statline',600))"
   ]
  },
  {
   "cell_type": "code",
   "execution_count": 992,
   "metadata": {},
   "outputs": [
    {
     "data": {
      "text/html": [
       "<div>\n",
       "<style scoped>\n",
       "    .dataframe tbody tr th:only-of-type {\n",
       "        vertical-align: middle;\n",
       "    }\n",
       "\n",
       "    .dataframe tbody tr th {\n",
       "        vertical-align: top;\n",
       "    }\n",
       "\n",
       "    .dataframe thead th {\n",
       "        text-align: right;\n",
       "    }\n",
       "</style>\n",
       "<table border=\"1\" class=\"dataframe\">\n",
       "  <thead>\n",
       "    <tr style=\"text-align: right;\">\n",
       "      <th></th>\n",
       "      <th>inning</th>\n",
       "      <th>half</th>\n",
       "      <th>outs</th>\n",
       "      <th>home_runs</th>\n",
       "      <th>away_runs</th>\n",
       "      <th>1stB</th>\n",
       "      <th>2ndB</th>\n",
       "      <th>3rdB</th>\n",
       "    </tr>\n",
       "  </thead>\n",
       "  <tbody>\n",
       "    <tr>\n",
       "      <th>0</th>\n",
       "      <td>3</td>\n",
       "      <td>1</td>\n",
       "      <td>1</td>\n",
       "      <td>3</td>\n",
       "      <td>1</td>\n",
       "      <td>0</td>\n",
       "      <td>1</td>\n",
       "      <td>1</td>\n",
       "    </tr>\n",
       "  </tbody>\n",
       "</table>\n",
       "</div>"
      ],
      "text/plain": [
       "   inning  half  outs  home_runs  away_runs  1stB  2ndB  3rdB\n",
       "0       3     1     1          3          1     0     1     1"
      ]
     },
     "execution_count": 992,
     "metadata": {},
     "output_type": "execute_result"
    }
   ],
   "source": [
    "gamestate_labels=['inning','half','outs','home_runs','away_runs','1stB','2ndB','3rdB']\n",
    "init_state=[[3,1,1,3,1,0,1,1]]\n",
    "game=pd.DataFrame(data=init_state,columns=gamestate_labels)\n",
    "game"
   ]
  },
  {
   "cell_type": "code",
   "execution_count": 993,
   "metadata": {},
   "outputs": [
    {
     "data": {
      "text/html": [
       "<div>\n",
       "<style scoped>\n",
       "    .dataframe tbody tr th:only-of-type {\n",
       "        vertical-align: middle;\n",
       "    }\n",
       "\n",
       "    .dataframe tbody tr th {\n",
       "        vertical-align: top;\n",
       "    }\n",
       "\n",
       "    .dataframe thead th {\n",
       "        text-align: right;\n",
       "    }\n",
       "</style>\n",
       "<table border=\"1\" class=\"dataframe\">\n",
       "  <thead>\n",
       "    <tr style=\"text-align: right;\">\n",
       "      <th></th>\n",
       "      <th>inning</th>\n",
       "      <th>half</th>\n",
       "      <th>outs</th>\n",
       "      <th>home_runs</th>\n",
       "      <th>away_runs</th>\n",
       "      <th>1stB</th>\n",
       "      <th>2ndB</th>\n",
       "      <th>3rdB</th>\n",
       "    </tr>\n",
       "  </thead>\n",
       "  <tbody>\n",
       "    <tr>\n",
       "      <th>0</th>\n",
       "      <td>3</td>\n",
       "      <td>1</td>\n",
       "      <td>2</td>\n",
       "      <td>4</td>\n",
       "      <td>1</td>\n",
       "      <td>0</td>\n",
       "      <td>0</td>\n",
       "      <td>1</td>\n",
       "    </tr>\n",
       "  </tbody>\n",
       "</table>\n",
       "</div>"
      ],
      "text/plain": [
       "   inning  half  outs  home_runs  away_runs  1stB  2ndB  3rdB\n",
       "0       3     1     2          4          1     0     0     1"
      ]
     },
     "execution_count": 993,
     "metadata": {},
     "output_type": "execute_result"
    }
   ],
   "source": [
    "afterGBstate=[[3,1,2,4,1,0,0,1]]\n",
    "gamen=pd.DataFrame(data=afterGBstate,columns=gamestate_labels)\n",
    "gamen"
   ]
  },
  {
   "cell_type": "code",
   "execution_count": 459,
   "metadata": {},
   "outputs": [],
   "source": [
    "#def gamesim(l1,l2,p1,p2,pinn1,pinn2)"
   ]
  }
 ],
 "metadata": {
  "kernelspec": {
   "display_name": "Python 3",
   "language": "python",
   "name": "python3"
  },
  "language_info": {
   "codemirror_mode": {
    "name": "ipython",
    "version": 3
   },
   "file_extension": ".py",
   "mimetype": "text/x-python",
   "name": "python",
   "nbconvert_exporter": "python",
   "pygments_lexer": "ipython3",
   "version": "3.7.6"
  }
 },
 "nbformat": 4,
 "nbformat_minor": 4
}
