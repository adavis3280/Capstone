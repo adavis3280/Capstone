{
 "cells": [
  {
   "cell_type": "code",
   "execution_count": 22,
   "metadata": {},
   "outputs": [],
   "source": [
    "import pandas as pd\n",
    "import numpy as np"
   ]
  },
  {
   "cell_type": "code",
   "execution_count": 23,
   "metadata": {},
   "outputs": [],
   "source": [
    "years=[2012,2013,2014,2015,2016,2017,2018,2019]\n",
    "types=['Advanced.csv','BattedBall.csv','Standard.csv']"
   ]
  },
  {
   "cell_type": "code",
   "execution_count": 24,
   "metadata": {},
   "outputs": [],
   "source": [
    "hitterf='../data/FangraphsData/HitterData'\n",
    "pitcherf='../data/FangraphsData/PitcherData'"
   ]
  },
  {
   "cell_type": "code",
   "execution_count": 25,
   "metadata": {},
   "outputs": [],
   "source": [
    "#Read in all 3 sets of data for each year from fangraphs and put it all into one database\n",
    "#standard,battedball,advanced are the 3 types\n",
    "for i in years:\n",
    "    adv=pd.read_csv(hitterf+'/'+str(i)+types[0])\n",
    "    bbl=pd.read_csv(hitterf+'/'+str(i)+types[1])\n",
    "    std=pd.read_csv(hitterf+'/'+str(i)+types[2])\n",
    "    batter=pd.merge(adv,bbl,left_on='playerid',right_on='playerid')\n",
    "    batter=pd.merge(batter,std,left_on='playerid',right_on='playerid')\n",
    "    batter['season']=i\n",
    "    if i==years[0]:\n",
    "        hitdb=batter\n",
    "    else:\n",
    "        hitdb=pd.concat([hitdb,batter])"
   ]
  },
  {
   "cell_type": "code",
   "execution_count": 26,
   "metadata": {},
   "outputs": [
    {
     "data": {
      "text/plain": [
       "(10756, 63)"
      ]
     },
     "execution_count": 26,
     "metadata": {},
     "output_type": "execute_result"
    }
   ],
   "source": [
    "hitdb.shape\n"
   ]
  },
  {
   "cell_type": "code",
   "execution_count": 27,
   "metadata": {},
   "outputs": [
    {
     "data": {
      "text/plain": [
       "Index(['Name_x', 'Team_x', 'PA_x', 'BB%', 'K%', 'BB/K', 'AVG_x', 'OBP', 'SLG',\n",
       "       'OPS', 'ISO', 'Spd', 'BABIP_x', 'UBR', 'wGDP', 'wSB', 'wRC', 'wRAA',\n",
       "       'wOBA', 'wRC+', 'playerid', 'Name_y', 'Team_y', 'BABIP_y', 'GB/FB',\n",
       "       'LD%', 'GB%', 'FB%', 'IFFB%', 'HR/FB', 'IFH', 'IFH%', 'BUH', 'BUH%',\n",
       "       'Pull%', 'Cent%', 'Oppo%', 'Soft%', 'Med%', 'Hard%', 'Name', 'Team',\n",
       "       'G', 'AB', 'PA_y', 'H', '1B', '2B', '3B', 'HR', 'R', 'RBI', 'BB', 'IBB',\n",
       "       'SO', 'HBP', 'SF', 'SH', 'GDP', 'SB', 'CS', 'AVG_y', 'season'],\n",
       "      dtype='object')"
      ]
     },
     "execution_count": 27,
     "metadata": {},
     "output_type": "execute_result"
    }
   ],
   "source": [
    "hitdb.columns"
   ]
  },
  {
   "cell_type": "code",
   "execution_count": 28,
   "metadata": {},
   "outputs": [],
   "source": [
    "#delete duplicate columns and establish consistent column naming\n",
    "hitdb.drop(columns=['Name_y','Team_y','BABIP_y','Name','Team','PA_y','AVG_y'],inplace=True)\n",
    "hitdb.rename(columns={'Name_x':'Name',\n",
    "                     'Team_x':'Team',\n",
    "                     'PA_x':'PA',\n",
    "                     'AVG_x':'AVG',\n",
    "                     'BABIP_x':'BABIP'},inplace=True);"
   ]
  },
  {
   "cell_type": "code",
   "execution_count": 29,
   "metadata": {},
   "outputs": [],
   "source": [
    "#Read in all 3 sets of data for each year from fangraphs and put it all into one database\n",
    "#standard,battedball,advanced are the 3 types\n",
    "for i in years:\n",
    "    adv=pd.read_csv(pitcherf+'/'+str(i)+types[0])\n",
    "    bbl=pd.read_csv(pitcherf+'/'+str(i)+types[1])\n",
    "    std=pd.read_csv(pitcherf+'/'+str(i)+types[2])\n",
    "    pitcher=pd.merge(adv,bbl,left_on='playerid',right_on='playerid')\n",
    "    pitcher=pd.merge(pitcher,std,left_on='playerid',right_on='playerid')\n",
    "    pitcher['season']=i\n",
    "    if i==years[0]:\n",
    "        pitdb=pitcher\n",
    "    else:\n",
    "        pitdb=pd.concat([pitdb,pitcher])"
   ]
  },
  {
   "cell_type": "code",
   "execution_count": 30,
   "metadata": {},
   "outputs": [
    {
     "data": {
      "text/plain": [
       "(5895, 67)"
      ]
     },
     "execution_count": 30,
     "metadata": {},
     "output_type": "execute_result"
    }
   ],
   "source": [
    "pitdb.shape"
   ]
  },
  {
   "cell_type": "code",
   "execution_count": 31,
   "metadata": {
    "scrolled": true
   },
   "outputs": [
    {
     "data": {
      "text/plain": [
       "Index(['Name_x', 'Team_x', 'K/9', 'BB/9', 'K/BB', 'HR/9', 'K%', 'BB%', 'K-BB%',\n",
       "       'AVG', 'WHIP', 'BABIP_x', 'LOB%', 'ERA-', 'FIP-', 'xFIP-', 'ERA_x',\n",
       "       'FIP', 'E-F', 'xFIP', 'SIERA', 'playerid', 'Name_y', 'Team_y',\n",
       "       'BABIP_y', 'GB/FB', 'LD%', 'GB%', 'FB%', 'IFFB%', 'HR/FB', 'RS', 'RS/9',\n",
       "       'Balls', 'Strikes', 'Pitches', 'Pull%', 'Cent%', 'Oppo%', 'Soft%',\n",
       "       'Med%', 'Hard%', 'Name', 'Team', 'W', 'L', 'ERA_y', 'G', 'GS', 'CG',\n",
       "       'ShO', 'SV', 'HLD', 'BS', 'IP', 'TBF', 'H', 'R', 'ER', 'HR', 'BB',\n",
       "       'IBB', 'HBP', 'WP', 'BK', 'SO', 'season'],\n",
       "      dtype='object')"
      ]
     },
     "execution_count": 31,
     "metadata": {},
     "output_type": "execute_result"
    }
   ],
   "source": [
    "pitdb.columns"
   ]
  },
  {
   "cell_type": "code",
   "execution_count": 32,
   "metadata": {},
   "outputs": [],
   "source": [
    "#rename as above\n",
    "pitdb.drop(columns=['Name_y','Team_y','BABIP_y','Name','Team','ERA_y'],inplace=True)\n",
    "pitdb.rename(columns={'Name_x':'Name',\n",
    "                     'Team_x':'Team',\n",
    "                     'PA_x':'PA',\n",
    "                     'ERA_x':'ERA',\n",
    "                     'BABIP_x':'BABIP'},inplace=True);"
   ]
  },
  {
   "cell_type": "code",
   "execution_count": 33,
   "metadata": {},
   "outputs": [],
   "source": [
    "hitdb.to_csv('../data/CleanedPlayerData/FangraphsHittersFinal.csv',index=False)\n",
    "pitdb.to_csv('../data/CleanedPlayerData/FangraphsPitchersFinal.csv',index=False)"
   ]
  },
  {
   "cell_type": "code",
   "execution_count": 34,
   "metadata": {},
   "outputs": [],
   "source": [
    "#read in statcast data\n",
    "stathit=pd.read_csv('../data/CleanedPlayerData/StatcastHittersFinal.csv')\n",
    "statpit=pd.read_csv('../data/CleanedPlayerData/StatcastPitchersFinal.csv')"
   ]
  },
  {
   "cell_type": "code",
   "execution_count": 35,
   "metadata": {},
   "outputs": [
    {
     "data": {
      "text/plain": [
       "Index(['last_name', ' first_name', 'player_id', 'attempts', 'avg_hit_angle',\n",
       "       'anglesweetspotpercent', 'max_hit_speed', 'avg_hit_speed', 'fbld', 'gb',\n",
       "       'max_distance', 'avg_distance', 'avg_hr_distance', 'ev95plus',\n",
       "       'ev95percent', 'barrels', 'brl_percent', 'brl_pa', 'season'],\n",
       "      dtype='object')"
      ]
     },
     "execution_count": 35,
     "metadata": {},
     "output_type": "execute_result"
    }
   ],
   "source": [
    "stathit.columns"
   ]
  },
  {
   "cell_type": "code",
   "execution_count": 36,
   "metadata": {},
   "outputs": [
    {
     "data": {
      "text/plain": [
       "Index(['last_name', ' first_name', 'player_id', 'attempts', 'avg_hit_angle',\n",
       "       'anglesweetspotpercent', 'max_hit_speed', 'avg_hit_speed', 'fbld', 'gb',\n",
       "       'max_distance', 'avg_distance', 'avg_hr_distance', 'ev95plus',\n",
       "       'ev95percent', 'barrels', 'brl_percent', 'brl_pa', 'season'],\n",
       "      dtype='object')"
      ]
     },
     "execution_count": 36,
     "metadata": {},
     "output_type": "execute_result"
    }
   ],
   "source": [
    "statpit.columns"
   ]
  },
  {
   "cell_type": "code",
   "execution_count": 37,
   "metadata": {},
   "outputs": [],
   "source": [
    "stathit['Name']=stathit[' first_name']+' '+stathit['last_name']\n",
    "statpit['Name']=statpit[' first_name']+' '+statpit['last_name']"
   ]
  },
  {
   "cell_type": "code",
   "execution_count": 38,
   "metadata": {},
   "outputs": [
    {
     "data": {
      "text/plain": [
       "0         Jose Altuve\n",
       "1     Alcides Escobar\n",
       "2       Melky Cabrera\n",
       "3         Ian Kinsler\n",
       "4         Erick Aybar\n",
       "Name: Name, dtype: object"
      ]
     },
     "execution_count": 38,
     "metadata": {},
     "output_type": "execute_result"
    }
   ],
   "source": [
    "stathit['Name'].head()"
   ]
  },
  {
   "cell_type": "code",
   "execution_count": 39,
   "metadata": {},
   "outputs": [],
   "source": [
    "#Eliminate spaces from statcast names\n",
    "stathit['Name']=stathit['Name'].str.strip()\n",
    "statpit['Name']=statpit['Name'].str.strip()"
   ]
  },
  {
   "cell_type": "code",
   "execution_count": 40,
   "metadata": {},
   "outputs": [
    {
     "data": {
      "text/plain": [
       "2015    915\n",
       "2018    911\n",
       "2019    910\n",
       "2016    909\n",
       "2017    905\n",
       "Name: season, dtype: int64"
      ]
     },
     "execution_count": 40,
     "metadata": {},
     "output_type": "execute_result"
    }
   ],
   "source": [
    "stathit['season'].value_counts()"
   ]
  },
  {
   "cell_type": "code",
   "execution_count": 41,
   "metadata": {},
   "outputs": [
    {
     "data": {
      "text/plain": [
       "0     David Hernandez\n",
       "1    Aneury Rodriguez\n",
       "2       Shelby Miller\n",
       "3        Sean Burnett\n",
       "4         Dan Johnson\n",
       "Name: Name, dtype: object"
      ]
     },
     "execution_count": 41,
     "metadata": {},
     "output_type": "execute_result"
    }
   ],
   "source": [
    "hitdb['Name'].head()"
   ]
  },
  {
   "cell_type": "code",
   "execution_count": 42,
   "metadata": {},
   "outputs": [],
   "source": [
    "#merge statcast hitter data by name and season\n",
    "FH=pd.merge(hitdb,stathit,left_on=['Name','season'],right_on=['Name','season'],how='outer')"
   ]
  },
  {
   "cell_type": "code",
   "execution_count": 43,
   "metadata": {},
   "outputs": [
    {
     "data": {
      "text/html": [
       "<div>\n",
       "<style scoped>\n",
       "    .dataframe tbody tr th:only-of-type {\n",
       "        vertical-align: middle;\n",
       "    }\n",
       "\n",
       "    .dataframe tbody tr th {\n",
       "        vertical-align: top;\n",
       "    }\n",
       "\n",
       "    .dataframe thead th {\n",
       "        text-align: right;\n",
       "    }\n",
       "</style>\n",
       "<table border=\"1\" class=\"dataframe\">\n",
       "  <thead>\n",
       "    <tr style=\"text-align: right;\">\n",
       "      <th></th>\n",
       "      <th>Name</th>\n",
       "      <th>Team</th>\n",
       "      <th>PA</th>\n",
       "      <th>BB%</th>\n",
       "      <th>K%</th>\n",
       "      <th>BB/K</th>\n",
       "      <th>AVG</th>\n",
       "      <th>OBP</th>\n",
       "      <th>SLG</th>\n",
       "      <th>OPS</th>\n",
       "      <th>...</th>\n",
       "      <th>fbld</th>\n",
       "      <th>gb</th>\n",
       "      <th>max_distance</th>\n",
       "      <th>avg_distance</th>\n",
       "      <th>avg_hr_distance</th>\n",
       "      <th>ev95plus</th>\n",
       "      <th>ev95percent</th>\n",
       "      <th>barrels</th>\n",
       "      <th>brl_percent</th>\n",
       "      <th>brl_pa</th>\n",
       "    </tr>\n",
       "  </thead>\n",
       "  <tbody>\n",
       "    <tr>\n",
       "      <th>33</th>\n",
       "      <td>Mike Trout</td>\n",
       "      <td>Angels</td>\n",
       "      <td>639.0</td>\n",
       "      <td>10.5%</td>\n",
       "      <td>21.8%</td>\n",
       "      <td>0.48</td>\n",
       "      <td>0.326</td>\n",
       "      <td>0.399</td>\n",
       "      <td>0.564</td>\n",
       "      <td>0.963</td>\n",
       "      <td>...</td>\n",
       "      <td>NaN</td>\n",
       "      <td>NaN</td>\n",
       "      <td>NaN</td>\n",
       "      <td>NaN</td>\n",
       "      <td>NaN</td>\n",
       "      <td>NaN</td>\n",
       "      <td>NaN</td>\n",
       "      <td>NaN</td>\n",
       "      <td>NaN</td>\n",
       "      <td>NaN</td>\n",
       "    </tr>\n",
       "    <tr>\n",
       "      <th>1304</th>\n",
       "      <td>Mike Trout</td>\n",
       "      <td>Angels</td>\n",
       "      <td>716.0</td>\n",
       "      <td>15.4%</td>\n",
       "      <td>19.0%</td>\n",
       "      <td>0.81</td>\n",
       "      <td>0.323</td>\n",
       "      <td>0.432</td>\n",
       "      <td>0.557</td>\n",
       "      <td>0.988</td>\n",
       "      <td>...</td>\n",
       "      <td>NaN</td>\n",
       "      <td>NaN</td>\n",
       "      <td>NaN</td>\n",
       "      <td>NaN</td>\n",
       "      <td>NaN</td>\n",
       "      <td>NaN</td>\n",
       "      <td>NaN</td>\n",
       "      <td>NaN</td>\n",
       "      <td>NaN</td>\n",
       "      <td>NaN</td>\n",
       "    </tr>\n",
       "    <tr>\n",
       "      <th>2615</th>\n",
       "      <td>Mike Trout</td>\n",
       "      <td>Angels</td>\n",
       "      <td>705.0</td>\n",
       "      <td>11.8%</td>\n",
       "      <td>26.1%</td>\n",
       "      <td>0.45</td>\n",
       "      <td>0.287</td>\n",
       "      <td>0.377</td>\n",
       "      <td>0.561</td>\n",
       "      <td>0.939</td>\n",
       "      <td>...</td>\n",
       "      <td>NaN</td>\n",
       "      <td>NaN</td>\n",
       "      <td>NaN</td>\n",
       "      <td>NaN</td>\n",
       "      <td>NaN</td>\n",
       "      <td>NaN</td>\n",
       "      <td>NaN</td>\n",
       "      <td>NaN</td>\n",
       "      <td>NaN</td>\n",
       "      <td>NaN</td>\n",
       "    </tr>\n",
       "    <tr>\n",
       "      <th>3951</th>\n",
       "      <td>Mike Trout</td>\n",
       "      <td>Angels</td>\n",
       "      <td>682.0</td>\n",
       "      <td>13.5%</td>\n",
       "      <td>23.2%</td>\n",
       "      <td>0.58</td>\n",
       "      <td>0.299</td>\n",
       "      <td>0.402</td>\n",
       "      <td>0.590</td>\n",
       "      <td>0.991</td>\n",
       "      <td>...</td>\n",
       "      <td>96.9</td>\n",
       "      <td>88.7</td>\n",
       "      <td>477.0</td>\n",
       "      <td>204.0</td>\n",
       "      <td>410.0</td>\n",
       "      <td>205.0</td>\n",
       "      <td>48.6</td>\n",
       "      <td>69.0</td>\n",
       "      <td>16.4</td>\n",
       "      <td>10.1</td>\n",
       "    </tr>\n",
       "    <tr>\n",
       "      <th>5294</th>\n",
       "      <td>Mike Trout</td>\n",
       "      <td>Angels</td>\n",
       "      <td>681.0</td>\n",
       "      <td>17.0%</td>\n",
       "      <td>20.1%</td>\n",
       "      <td>0.85</td>\n",
       "      <td>0.315</td>\n",
       "      <td>0.441</td>\n",
       "      <td>0.550</td>\n",
       "      <td>0.991</td>\n",
       "      <td>...</td>\n",
       "      <td>94.3</td>\n",
       "      <td>87.1</td>\n",
       "      <td>446.0</td>\n",
       "      <td>198.0</td>\n",
       "      <td>412.0</td>\n",
       "      <td>169.0</td>\n",
       "      <td>40.5</td>\n",
       "      <td>61.0</td>\n",
       "      <td>14.6</td>\n",
       "      <td>9.0</td>\n",
       "    </tr>\n",
       "    <tr>\n",
       "      <th>6652</th>\n",
       "      <td>Mike Trout</td>\n",
       "      <td>Angels</td>\n",
       "      <td>507.0</td>\n",
       "      <td>18.5%</td>\n",
       "      <td>17.8%</td>\n",
       "      <td>1.04</td>\n",
       "      <td>0.306</td>\n",
       "      <td>0.442</td>\n",
       "      <td>0.629</td>\n",
       "      <td>1.071</td>\n",
       "      <td>...</td>\n",
       "      <td>94.2</td>\n",
       "      <td>84.1</td>\n",
       "      <td>448.0</td>\n",
       "      <td>199.0</td>\n",
       "      <td>411.0</td>\n",
       "      <td>124.0</td>\n",
       "      <td>39.2</td>\n",
       "      <td>42.0</td>\n",
       "      <td>13.3</td>\n",
       "      <td>8.3</td>\n",
       "    </tr>\n",
       "    <tr>\n",
       "      <th>7999</th>\n",
       "      <td>Mike Trout</td>\n",
       "      <td>Angels</td>\n",
       "      <td>608.0</td>\n",
       "      <td>20.1%</td>\n",
       "      <td>20.4%</td>\n",
       "      <td>0.98</td>\n",
       "      <td>0.312</td>\n",
       "      <td>0.460</td>\n",
       "      <td>0.628</td>\n",
       "      <td>1.088</td>\n",
       "      <td>...</td>\n",
       "      <td>95.9</td>\n",
       "      <td>85.2</td>\n",
       "      <td>459.0</td>\n",
       "      <td>212.0</td>\n",
       "      <td>407.0</td>\n",
       "      <td>162.0</td>\n",
       "      <td>46.2</td>\n",
       "      <td>58.0</td>\n",
       "      <td>16.5</td>\n",
       "      <td>9.5</td>\n",
       "    </tr>\n",
       "    <tr>\n",
       "      <th>9379</th>\n",
       "      <td>Mike Trout</td>\n",
       "      <td>Angels</td>\n",
       "      <td>600.0</td>\n",
       "      <td>18.3%</td>\n",
       "      <td>20.0%</td>\n",
       "      <td>0.92</td>\n",
       "      <td>0.291</td>\n",
       "      <td>0.438</td>\n",
       "      <td>0.645</td>\n",
       "      <td>1.083</td>\n",
       "      <td>...</td>\n",
       "      <td>94.9</td>\n",
       "      <td>84.2</td>\n",
       "      <td>473.0</td>\n",
       "      <td>233.0</td>\n",
       "      <td>419.0</td>\n",
       "      <td>154.0</td>\n",
       "      <td>44.3</td>\n",
       "      <td>66.0</td>\n",
       "      <td>18.6</td>\n",
       "      <td>11.0</td>\n",
       "    </tr>\n",
       "  </tbody>\n",
       "</table>\n",
       "<p>8 rows × 74 columns</p>\n",
       "</div>"
      ],
      "text/plain": [
       "            Name    Team     PA    BB%     K%  BB/K    AVG    OBP    SLG  \\\n",
       "33    Mike Trout  Angels  639.0  10.5%  21.8%  0.48  0.326  0.399  0.564   \n",
       "1304  Mike Trout  Angels  716.0  15.4%  19.0%  0.81  0.323  0.432  0.557   \n",
       "2615  Mike Trout  Angels  705.0  11.8%  26.1%  0.45  0.287  0.377  0.561   \n",
       "3951  Mike Trout  Angels  682.0  13.5%  23.2%  0.58  0.299  0.402  0.590   \n",
       "5294  Mike Trout  Angels  681.0  17.0%  20.1%  0.85  0.315  0.441  0.550   \n",
       "6652  Mike Trout  Angels  507.0  18.5%  17.8%  1.04  0.306  0.442  0.629   \n",
       "7999  Mike Trout  Angels  608.0  20.1%  20.4%  0.98  0.312  0.460  0.628   \n",
       "9379  Mike Trout  Angels  600.0  18.3%  20.0%  0.92  0.291  0.438  0.645   \n",
       "\n",
       "        OPS  ...  fbld    gb  max_distance  avg_distance  avg_hr_distance  \\\n",
       "33    0.963  ...   NaN   NaN           NaN           NaN              NaN   \n",
       "1304  0.988  ...   NaN   NaN           NaN           NaN              NaN   \n",
       "2615  0.939  ...   NaN   NaN           NaN           NaN              NaN   \n",
       "3951  0.991  ...  96.9  88.7         477.0         204.0            410.0   \n",
       "5294  0.991  ...  94.3  87.1         446.0         198.0            412.0   \n",
       "6652  1.071  ...  94.2  84.1         448.0         199.0            411.0   \n",
       "7999  1.088  ...  95.9  85.2         459.0         212.0            407.0   \n",
       "9379  1.083  ...  94.9  84.2         473.0         233.0            419.0   \n",
       "\n",
       "      ev95plus  ev95percent  barrels  brl_percent  brl_pa  \n",
       "33         NaN          NaN      NaN          NaN     NaN  \n",
       "1304       NaN          NaN      NaN          NaN     NaN  \n",
       "2615       NaN          NaN      NaN          NaN     NaN  \n",
       "3951     205.0         48.6     69.0         16.4    10.1  \n",
       "5294     169.0         40.5     61.0         14.6     9.0  \n",
       "6652     124.0         39.2     42.0         13.3     8.3  \n",
       "7999     162.0         46.2     58.0         16.5     9.5  \n",
       "9379     154.0         44.3     66.0         18.6    11.0  \n",
       "\n",
       "[8 rows x 74 columns]"
      ]
     },
     "execution_count": 43,
     "metadata": {},
     "output_type": "execute_result"
    }
   ],
   "source": [
    "FH[FH['Name']=='Mike Trout']"
   ]
  },
  {
   "cell_type": "code",
   "execution_count": 44,
   "metadata": {},
   "outputs": [
    {
     "data": {
      "text/plain": [
       "Index(['Name', 'Team', 'PA', 'BB%', 'K%', 'BB/K', 'AVG', 'OBP', 'SLG', 'OPS',\n",
       "       'ISO', 'Spd', 'BABIP', 'UBR', 'wGDP', 'wSB', 'wRC', 'wRAA', 'wOBA',\n",
       "       'wRC+', 'playerid', 'GB/FB', 'LD%', 'GB%', 'FB%', 'IFFB%', 'HR/FB',\n",
       "       'IFH', 'IFH%', 'BUH', 'BUH%', 'Pull%', 'Cent%', 'Oppo%', 'Soft%',\n",
       "       'Med%', 'Hard%', 'G', 'AB', 'H', '1B', '2B', '3B', 'HR', 'R', 'RBI',\n",
       "       'BB', 'IBB', 'SO', 'HBP', 'SF', 'SH', 'GDP', 'SB', 'CS', 'season',\n",
       "       'last_name', ' first_name', 'player_id', 'attempts', 'avg_hit_angle',\n",
       "       'anglesweetspotpercent', 'max_hit_speed', 'avg_hit_speed', 'fbld', 'gb',\n",
       "       'max_distance', 'avg_distance', 'avg_hr_distance', 'ev95plus',\n",
       "       'ev95percent', 'barrels', 'brl_percent', 'brl_pa'],\n",
       "      dtype='object')"
      ]
     },
     "execution_count": 44,
     "metadata": {},
     "output_type": "execute_result"
    }
   ],
   "source": [
    "FH.columns"
   ]
  },
  {
   "cell_type": "code",
   "execution_count": 45,
   "metadata": {},
   "outputs": [],
   "source": [
    "#merge statcast pitcher data by name and season\n",
    "FP=pd.merge(pitdb,statpit,left_on=['Name','season'],right_on=['Name','season'],how='outer')"
   ]
  },
  {
   "cell_type": "code",
   "execution_count": 46,
   "metadata": {},
   "outputs": [
    {
     "data": {
      "text/plain": [
       "Index(['Name', 'Team', 'K/9', 'BB/9', 'K/BB', 'HR/9', 'K%', 'BB%', 'K-BB%',\n",
       "       'AVG', 'WHIP', 'BABIP', 'LOB%', 'ERA-', 'FIP-', 'xFIP-', 'ERA', 'FIP',\n",
       "       'E-F', 'xFIP', 'SIERA', 'playerid', 'GB/FB', 'LD%', 'GB%', 'FB%',\n",
       "       'IFFB%', 'HR/FB', 'RS', 'RS/9', 'Balls', 'Strikes', 'Pitches', 'Pull%',\n",
       "       'Cent%', 'Oppo%', 'Soft%', 'Med%', 'Hard%', 'W', 'L', 'G', 'GS', 'CG',\n",
       "       'ShO', 'SV', 'HLD', 'BS', 'IP', 'TBF', 'H', 'R', 'ER', 'HR', 'BB',\n",
       "       'IBB', 'HBP', 'WP', 'BK', 'SO', 'season', 'last_name', ' first_name',\n",
       "       'player_id', 'attempts', 'avg_hit_angle', 'anglesweetspotpercent',\n",
       "       'max_hit_speed', 'avg_hit_speed', 'fbld', 'gb', 'max_distance',\n",
       "       'avg_distance', 'avg_hr_distance', 'ev95plus', 'ev95percent', 'barrels',\n",
       "       'brl_percent', 'brl_pa'],\n",
       "      dtype='object')"
      ]
     },
     "execution_count": 46,
     "metadata": {},
     "output_type": "execute_result"
    }
   ],
   "source": [
    "FP.columns"
   ]
  },
  {
   "cell_type": "code",
   "execution_count": 47,
   "metadata": {},
   "outputs": [
    {
     "data": {
      "text/html": [
       "<div>\n",
       "<style scoped>\n",
       "    .dataframe tbody tr th:only-of-type {\n",
       "        vertical-align: middle;\n",
       "    }\n",
       "\n",
       "    .dataframe tbody tr th {\n",
       "        vertical-align: top;\n",
       "    }\n",
       "\n",
       "    .dataframe thead th {\n",
       "        text-align: right;\n",
       "    }\n",
       "</style>\n",
       "<table border=\"1\" class=\"dataframe\">\n",
       "  <thead>\n",
       "    <tr style=\"text-align: right;\">\n",
       "      <th></th>\n",
       "      <th>Name</th>\n",
       "      <th>Team</th>\n",
       "      <th>K/9</th>\n",
       "      <th>BB/9</th>\n",
       "      <th>K/BB</th>\n",
       "      <th>HR/9</th>\n",
       "      <th>K%</th>\n",
       "      <th>BB%</th>\n",
       "      <th>K-BB%</th>\n",
       "      <th>AVG</th>\n",
       "      <th>...</th>\n",
       "      <th>fbld</th>\n",
       "      <th>gb</th>\n",
       "      <th>max_distance</th>\n",
       "      <th>avg_distance</th>\n",
       "      <th>avg_hr_distance</th>\n",
       "      <th>ev95plus</th>\n",
       "      <th>ev95percent</th>\n",
       "      <th>barrels</th>\n",
       "      <th>brl_percent</th>\n",
       "      <th>brl_pa</th>\n",
       "    </tr>\n",
       "  </thead>\n",
       "  <tbody>\n",
       "    <tr>\n",
       "      <th>69</th>\n",
       "      <td>Clayton Kershaw</td>\n",
       "      <td>Dodgers</td>\n",
       "      <td>9.05</td>\n",
       "      <td>2.49</td>\n",
       "      <td>3.63</td>\n",
       "      <td>0.63</td>\n",
       "      <td>25.4%</td>\n",
       "      <td>7.0%</td>\n",
       "      <td>18.4%</td>\n",
       "      <td>0.204</td>\n",
       "      <td>...</td>\n",
       "      <td>NaN</td>\n",
       "      <td>NaN</td>\n",
       "      <td>NaN</td>\n",
       "      <td>NaN</td>\n",
       "      <td>NaN</td>\n",
       "      <td>NaN</td>\n",
       "      <td>NaN</td>\n",
       "      <td>NaN</td>\n",
       "      <td>NaN</td>\n",
       "      <td>NaN</td>\n",
       "    </tr>\n",
       "    <tr>\n",
       "      <th>707</th>\n",
       "      <td>Clayton Kershaw</td>\n",
       "      <td>Dodgers</td>\n",
       "      <td>8.85</td>\n",
       "      <td>1.98</td>\n",
       "      <td>4.46</td>\n",
       "      <td>0.42</td>\n",
       "      <td>25.6%</td>\n",
       "      <td>5.7%</td>\n",
       "      <td>19.8%</td>\n",
       "      <td>0.192</td>\n",
       "      <td>...</td>\n",
       "      <td>NaN</td>\n",
       "      <td>NaN</td>\n",
       "      <td>NaN</td>\n",
       "      <td>NaN</td>\n",
       "      <td>NaN</td>\n",
       "      <td>NaN</td>\n",
       "      <td>NaN</td>\n",
       "      <td>NaN</td>\n",
       "      <td>NaN</td>\n",
       "      <td>NaN</td>\n",
       "    </tr>\n",
       "    <tr>\n",
       "      <th>1361</th>\n",
       "      <td>Clayton Kershaw</td>\n",
       "      <td>Dodgers</td>\n",
       "      <td>10.85</td>\n",
       "      <td>1.41</td>\n",
       "      <td>7.71</td>\n",
       "      <td>0.41</td>\n",
       "      <td>31.9%</td>\n",
       "      <td>4.1%</td>\n",
       "      <td>27.8%</td>\n",
       "      <td>0.194</td>\n",
       "      <td>...</td>\n",
       "      <td>NaN</td>\n",
       "      <td>NaN</td>\n",
       "      <td>NaN</td>\n",
       "      <td>NaN</td>\n",
       "      <td>NaN</td>\n",
       "      <td>NaN</td>\n",
       "      <td>NaN</td>\n",
       "      <td>NaN</td>\n",
       "      <td>NaN</td>\n",
       "      <td>NaN</td>\n",
       "    </tr>\n",
       "    <tr>\n",
       "      <th>2050</th>\n",
       "      <td>Clayton Kershaw</td>\n",
       "      <td>Dodgers</td>\n",
       "      <td>11.64</td>\n",
       "      <td>1.62</td>\n",
       "      <td>7.17</td>\n",
       "      <td>0.58</td>\n",
       "      <td>33.8%</td>\n",
       "      <td>4.7%</td>\n",
       "      <td>29.1%</td>\n",
       "      <td>0.193</td>\n",
       "      <td>...</td>\n",
       "      <td>89.9</td>\n",
       "      <td>81.7</td>\n",
       "      <td>440.0</td>\n",
       "      <td>149.0</td>\n",
       "      <td>400.0</td>\n",
       "      <td>131.0</td>\n",
       "      <td>24.2</td>\n",
       "      <td>18.0</td>\n",
       "      <td>3.3</td>\n",
       "      <td>2.0</td>\n",
       "    </tr>\n",
       "    <tr>\n",
       "      <th>2783</th>\n",
       "      <td>Clayton Kershaw</td>\n",
       "      <td>Dodgers</td>\n",
       "      <td>10.39</td>\n",
       "      <td>0.66</td>\n",
       "      <td>15.64</td>\n",
       "      <td>0.48</td>\n",
       "      <td>31.6%</td>\n",
       "      <td>2.0%</td>\n",
       "      <td>29.6%</td>\n",
       "      <td>0.183</td>\n",
       "      <td>...</td>\n",
       "      <td>90.9</td>\n",
       "      <td>82.8</td>\n",
       "      <td>433.0</td>\n",
       "      <td>155.0</td>\n",
       "      <td>388.0</td>\n",
       "      <td>98.0</td>\n",
       "      <td>27.3</td>\n",
       "      <td>16.0</td>\n",
       "      <td>4.5</td>\n",
       "      <td>2.9</td>\n",
       "    </tr>\n",
       "    <tr>\n",
       "      <th>3593</th>\n",
       "      <td>Clayton Kershaw</td>\n",
       "      <td>Dodgers</td>\n",
       "      <td>10.39</td>\n",
       "      <td>1.54</td>\n",
       "      <td>6.73</td>\n",
       "      <td>1.18</td>\n",
       "      <td>29.8%</td>\n",
       "      <td>4.4%</td>\n",
       "      <td>25.3%</td>\n",
       "      <td>0.210</td>\n",
       "      <td>...</td>\n",
       "      <td>91.8</td>\n",
       "      <td>79.4</td>\n",
       "      <td>443.0</td>\n",
       "      <td>167.0</td>\n",
       "      <td>408.0</td>\n",
       "      <td>116.0</td>\n",
       "      <td>26.9</td>\n",
       "      <td>28.0</td>\n",
       "      <td>6.3</td>\n",
       "      <td>4.1</td>\n",
       "    </tr>\n",
       "    <tr>\n",
       "      <th>4405</th>\n",
       "      <td>Clayton Kershaw</td>\n",
       "      <td>Dodgers</td>\n",
       "      <td>8.65</td>\n",
       "      <td>1.62</td>\n",
       "      <td>5.34</td>\n",
       "      <td>0.95</td>\n",
       "      <td>23.9%</td>\n",
       "      <td>4.5%</td>\n",
       "      <td>19.4%</td>\n",
       "      <td>0.225</td>\n",
       "      <td>...</td>\n",
       "      <td>92.2</td>\n",
       "      <td>84.6</td>\n",
       "      <td>479.0</td>\n",
       "      <td>156.0</td>\n",
       "      <td>408.0</td>\n",
       "      <td>163.0</td>\n",
       "      <td>35.4</td>\n",
       "      <td>25.0</td>\n",
       "      <td>5.4</td>\n",
       "      <td>3.8</td>\n",
       "    </tr>\n",
       "    <tr>\n",
       "      <th>5284</th>\n",
       "      <td>Clayton Kershaw</td>\n",
       "      <td>Dodgers</td>\n",
       "      <td>9.54</td>\n",
       "      <td>2.07</td>\n",
       "      <td>4.61</td>\n",
       "      <td>1.41</td>\n",
       "      <td>26.8%</td>\n",
       "      <td>5.8%</td>\n",
       "      <td>21.0%</td>\n",
       "      <td>0.219</td>\n",
       "      <td>...</td>\n",
       "      <td>93.1</td>\n",
       "      <td>83.9</td>\n",
       "      <td>442.0</td>\n",
       "      <td>164.0</td>\n",
       "      <td>406.0</td>\n",
       "      <td>153.0</td>\n",
       "      <td>33.9</td>\n",
       "      <td>32.0</td>\n",
       "      <td>6.8</td>\n",
       "      <td>4.5</td>\n",
       "    </tr>\n",
       "  </tbody>\n",
       "</table>\n",
       "<p>8 rows × 79 columns</p>\n",
       "</div>"
      ],
      "text/plain": [
       "                 Name     Team    K/9  BB/9   K/BB  HR/9     K%   BB%  K-BB%  \\\n",
       "69    Clayton Kershaw  Dodgers   9.05  2.49   3.63  0.63  25.4%  7.0%  18.4%   \n",
       "707   Clayton Kershaw  Dodgers   8.85  1.98   4.46  0.42  25.6%  5.7%  19.8%   \n",
       "1361  Clayton Kershaw  Dodgers  10.85  1.41   7.71  0.41  31.9%  4.1%  27.8%   \n",
       "2050  Clayton Kershaw  Dodgers  11.64  1.62   7.17  0.58  33.8%  4.7%  29.1%   \n",
       "2783  Clayton Kershaw  Dodgers  10.39  0.66  15.64  0.48  31.6%  2.0%  29.6%   \n",
       "3593  Clayton Kershaw  Dodgers  10.39  1.54   6.73  1.18  29.8%  4.4%  25.3%   \n",
       "4405  Clayton Kershaw  Dodgers   8.65  1.62   5.34  0.95  23.9%  4.5%  19.4%   \n",
       "5284  Clayton Kershaw  Dodgers   9.54  2.07   4.61  1.41  26.8%  5.8%  21.0%   \n",
       "\n",
       "        AVG  ...  fbld    gb max_distance  avg_distance  avg_hr_distance  \\\n",
       "69    0.204  ...   NaN   NaN          NaN           NaN              NaN   \n",
       "707   0.192  ...   NaN   NaN          NaN           NaN              NaN   \n",
       "1361  0.194  ...   NaN   NaN          NaN           NaN              NaN   \n",
       "2050  0.193  ...  89.9  81.7        440.0         149.0            400.0   \n",
       "2783  0.183  ...  90.9  82.8        433.0         155.0            388.0   \n",
       "3593  0.210  ...  91.8  79.4        443.0         167.0            408.0   \n",
       "4405  0.225  ...  92.2  84.6        479.0         156.0            408.0   \n",
       "5284  0.219  ...  93.1  83.9        442.0         164.0            406.0   \n",
       "\n",
       "      ev95plus  ev95percent  barrels  brl_percent  brl_pa  \n",
       "69         NaN          NaN      NaN          NaN     NaN  \n",
       "707        NaN          NaN      NaN          NaN     NaN  \n",
       "1361       NaN          NaN      NaN          NaN     NaN  \n",
       "2050     131.0         24.2     18.0          3.3     2.0  \n",
       "2783      98.0         27.3     16.0          4.5     2.9  \n",
       "3593     116.0         26.9     28.0          6.3     4.1  \n",
       "4405     163.0         35.4     25.0          5.4     3.8  \n",
       "5284     153.0         33.9     32.0          6.8     4.5  \n",
       "\n",
       "[8 rows x 79 columns]"
      ]
     },
     "execution_count": 47,
     "metadata": {},
     "output_type": "execute_result"
    }
   ],
   "source": [
    "FP[FP['Name']=='Clayton Kershaw']"
   ]
  },
  {
   "cell_type": "code",
   "execution_count": 48,
   "metadata": {},
   "outputs": [],
   "source": [
    "#relabel columns with hitter and pitcher designations so stats can be referenced when the entire database is merged\n",
    "Fpc=['p'+i for i in FP.columns]\n",
    "Hpc=['h'+i for i in FH.columns]"
   ]
  },
  {
   "cell_type": "code",
   "execution_count": 49,
   "metadata": {},
   "outputs": [
    {
     "data": {
      "text/plain": [
       "['pName',\n",
       " 'pTeam',\n",
       " 'pK/9',\n",
       " 'pBB/9',\n",
       " 'pK/BB',\n",
       " 'pHR/9',\n",
       " 'pK%',\n",
       " 'pBB%',\n",
       " 'pK-BB%',\n",
       " 'pAVG']"
      ]
     },
     "execution_count": 49,
     "metadata": {},
     "output_type": "execute_result"
    }
   ],
   "source": [
    "Fpc[0:10]"
   ]
  },
  {
   "cell_type": "code",
   "execution_count": 50,
   "metadata": {},
   "outputs": [],
   "source": [
    "FH.columns=Hpc\n",
    "FP.columns=Fpc"
   ]
  },
  {
   "cell_type": "code",
   "execution_count": 51,
   "metadata": {},
   "outputs": [
    {
     "data": {
      "text/html": [
       "<div>\n",
       "<style scoped>\n",
       "    .dataframe tbody tr th:only-of-type {\n",
       "        vertical-align: middle;\n",
       "    }\n",
       "\n",
       "    .dataframe tbody tr th {\n",
       "        vertical-align: top;\n",
       "    }\n",
       "\n",
       "    .dataframe thead th {\n",
       "        text-align: right;\n",
       "    }\n",
       "</style>\n",
       "<table border=\"1\" class=\"dataframe\">\n",
       "  <thead>\n",
       "    <tr style=\"text-align: right;\">\n",
       "      <th></th>\n",
       "      <th>hName</th>\n",
       "      <th>hTeam</th>\n",
       "      <th>hPA</th>\n",
       "      <th>hBB%</th>\n",
       "      <th>hK%</th>\n",
       "      <th>hBB/K</th>\n",
       "      <th>hAVG</th>\n",
       "      <th>hOBP</th>\n",
       "      <th>hSLG</th>\n",
       "      <th>hOPS</th>\n",
       "      <th>...</th>\n",
       "      <th>hfbld</th>\n",
       "      <th>hgb</th>\n",
       "      <th>hmax_distance</th>\n",
       "      <th>havg_distance</th>\n",
       "      <th>havg_hr_distance</th>\n",
       "      <th>hev95plus</th>\n",
       "      <th>hev95percent</th>\n",
       "      <th>hbarrels</th>\n",
       "      <th>hbrl_percent</th>\n",
       "      <th>hbrl_pa</th>\n",
       "    </tr>\n",
       "  </thead>\n",
       "  <tbody>\n",
       "    <tr>\n",
       "      <th>0</th>\n",
       "      <td>David Hernandez</td>\n",
       "      <td>Diamondbacks</td>\n",
       "      <td>1.0</td>\n",
       "      <td>0.0%</td>\n",
       "      <td>0.0%</td>\n",
       "      <td>0.0</td>\n",
       "      <td>1.000</td>\n",
       "      <td>1.000</td>\n",
       "      <td>1.000</td>\n",
       "      <td>2.000</td>\n",
       "      <td>...</td>\n",
       "      <td>NaN</td>\n",
       "      <td>NaN</td>\n",
       "      <td>NaN</td>\n",
       "      <td>NaN</td>\n",
       "      <td>NaN</td>\n",
       "      <td>NaN</td>\n",
       "      <td>NaN</td>\n",
       "      <td>NaN</td>\n",
       "      <td>NaN</td>\n",
       "      <td>NaN</td>\n",
       "    </tr>\n",
       "    <tr>\n",
       "      <th>1</th>\n",
       "      <td>Aneury Rodriguez</td>\n",
       "      <td>Astros</td>\n",
       "      <td>1.0</td>\n",
       "      <td>0.0%</td>\n",
       "      <td>0.0%</td>\n",
       "      <td>0.0</td>\n",
       "      <td>1.000</td>\n",
       "      <td>1.000</td>\n",
       "      <td>1.000</td>\n",
       "      <td>2.000</td>\n",
       "      <td>...</td>\n",
       "      <td>NaN</td>\n",
       "      <td>NaN</td>\n",
       "      <td>NaN</td>\n",
       "      <td>NaN</td>\n",
       "      <td>NaN</td>\n",
       "      <td>NaN</td>\n",
       "      <td>NaN</td>\n",
       "      <td>NaN</td>\n",
       "      <td>NaN</td>\n",
       "      <td>NaN</td>\n",
       "    </tr>\n",
       "    <tr>\n",
       "      <th>2</th>\n",
       "      <td>Shelby Miller</td>\n",
       "      <td>Cardinals</td>\n",
       "      <td>3.0</td>\n",
       "      <td>0.0%</td>\n",
       "      <td>0.0%</td>\n",
       "      <td>0.0</td>\n",
       "      <td>0.667</td>\n",
       "      <td>0.667</td>\n",
       "      <td>1.000</td>\n",
       "      <td>1.667</td>\n",
       "      <td>...</td>\n",
       "      <td>NaN</td>\n",
       "      <td>NaN</td>\n",
       "      <td>NaN</td>\n",
       "      <td>NaN</td>\n",
       "      <td>NaN</td>\n",
       "      <td>NaN</td>\n",
       "      <td>NaN</td>\n",
       "      <td>NaN</td>\n",
       "      <td>NaN</td>\n",
       "      <td>NaN</td>\n",
       "    </tr>\n",
       "    <tr>\n",
       "      <th>3</th>\n",
       "      <td>Sean Burnett</td>\n",
       "      <td>Nationals</td>\n",
       "      <td>1.0</td>\n",
       "      <td>100.0%</td>\n",
       "      <td>0.0%</td>\n",
       "      <td>1.0</td>\n",
       "      <td>0.000</td>\n",
       "      <td>1.000</td>\n",
       "      <td>0.000</td>\n",
       "      <td>1.000</td>\n",
       "      <td>...</td>\n",
       "      <td>NaN</td>\n",
       "      <td>NaN</td>\n",
       "      <td>NaN</td>\n",
       "      <td>NaN</td>\n",
       "      <td>NaN</td>\n",
       "      <td>NaN</td>\n",
       "      <td>NaN</td>\n",
       "      <td>NaN</td>\n",
       "      <td>NaN</td>\n",
       "      <td>NaN</td>\n",
       "    </tr>\n",
       "    <tr>\n",
       "      <th>4</th>\n",
       "      <td>Dan Johnson</td>\n",
       "      <td>White Sox</td>\n",
       "      <td>31.0</td>\n",
       "      <td>29.0%</td>\n",
       "      <td>9.7%</td>\n",
       "      <td>3.0</td>\n",
       "      <td>0.364</td>\n",
       "      <td>0.548</td>\n",
       "      <td>0.818</td>\n",
       "      <td>1.367</td>\n",
       "      <td>...</td>\n",
       "      <td>NaN</td>\n",
       "      <td>NaN</td>\n",
       "      <td>NaN</td>\n",
       "      <td>NaN</td>\n",
       "      <td>NaN</td>\n",
       "      <td>NaN</td>\n",
       "      <td>NaN</td>\n",
       "      <td>NaN</td>\n",
       "      <td>NaN</td>\n",
       "      <td>NaN</td>\n",
       "    </tr>\n",
       "  </tbody>\n",
       "</table>\n",
       "<p>5 rows × 74 columns</p>\n",
       "</div>"
      ],
      "text/plain": [
       "              hName         hTeam   hPA    hBB%   hK%  hBB/K   hAVG   hOBP  \\\n",
       "0   David Hernandez  Diamondbacks   1.0    0.0%  0.0%    0.0  1.000  1.000   \n",
       "1  Aneury Rodriguez        Astros   1.0    0.0%  0.0%    0.0  1.000  1.000   \n",
       "2     Shelby Miller     Cardinals   3.0    0.0%  0.0%    0.0  0.667  0.667   \n",
       "3      Sean Burnett     Nationals   1.0  100.0%  0.0%    1.0  0.000  1.000   \n",
       "4       Dan Johnson     White Sox  31.0   29.0%  9.7%    3.0  0.364  0.548   \n",
       "\n",
       "    hSLG   hOPS  ...  hfbld  hgb  hmax_distance  havg_distance  \\\n",
       "0  1.000  2.000  ...    NaN  NaN            NaN            NaN   \n",
       "1  1.000  2.000  ...    NaN  NaN            NaN            NaN   \n",
       "2  1.000  1.667  ...    NaN  NaN            NaN            NaN   \n",
       "3  0.000  1.000  ...    NaN  NaN            NaN            NaN   \n",
       "4  0.818  1.367  ...    NaN  NaN            NaN            NaN   \n",
       "\n",
       "   havg_hr_distance  hev95plus  hev95percent  hbarrels  hbrl_percent  hbrl_pa  \n",
       "0               NaN        NaN           NaN       NaN           NaN      NaN  \n",
       "1               NaN        NaN           NaN       NaN           NaN      NaN  \n",
       "2               NaN        NaN           NaN       NaN           NaN      NaN  \n",
       "3               NaN        NaN           NaN       NaN           NaN      NaN  \n",
       "4               NaN        NaN           NaN       NaN           NaN      NaN  \n",
       "\n",
       "[5 rows x 74 columns]"
      ]
     },
     "execution_count": 51,
     "metadata": {},
     "output_type": "execute_result"
    }
   ],
   "source": [
    "FH.head()"
   ]
  },
  {
   "cell_type": "code",
   "execution_count": 52,
   "metadata": {},
   "outputs": [],
   "source": [
    "FH.to_csv('../data/CleanedPlayerData/MergedHitters.csv',index=False)\n",
    "FP.to_csv('../data/CleanedPlayerData/MergedPitchers.csv',index=False)"
   ]
  },
  {
   "cell_type": "code",
   "execution_count": null,
   "metadata": {},
   "outputs": [],
   "source": []
  }
 ],
 "metadata": {
  "kernelspec": {
   "display_name": "Python 3",
   "language": "python",
   "name": "python3"
  },
  "language_info": {
   "codemirror_mode": {
    "name": "ipython",
    "version": 3
   },
   "file_extension": ".py",
   "mimetype": "text/x-python",
   "name": "python",
   "nbconvert_exporter": "python",
   "pygments_lexer": "ipython3",
   "version": "3.7.6"
  }
 },
 "nbformat": 4,
 "nbformat_minor": 4
}
