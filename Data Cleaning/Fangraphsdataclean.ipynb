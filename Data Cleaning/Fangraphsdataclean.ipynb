{
 "cells": [
  {
   "cell_type": "code",
   "execution_count": null,
   "metadata": {},
   "outputs": [],
   "source": [
    "import pandas as pd\n",
    "import numpy as np"
   ]
  },
  {
   "cell_type": "code",
   "execution_count": null,
   "metadata": {},
   "outputs": [],
   "source": [
    "years=[2012,2013,2014,2015,2016,2017,2018,2019]\n",
    "types=['Advanced.csv','BattedBall.csv','Standard.csv']"
   ]
  },
  {
   "cell_type": "code",
   "execution_count": null,
   "metadata": {},
   "outputs": [],
   "source": [
    "hitterf='../data/FangraphsData/HitterData'\n",
    "pitcherf='../data/FangraphsData/PitcherData'"
   ]
  },
  {
   "cell_type": "code",
   "execution_count": null,
   "metadata": {},
   "outputs": [],
   "source": [
    "#Read in all 3 sets of data for each year from fangraphs and put it all into one database\n",
    "#standard,battedball,advanced are the 3 types\n",
    "for i in years:\n",
    "    adv=pd.read_csv(hitterf+'/'+str(i)+types[0])\n",
    "    bbl=pd.read_csv(hitterf+'/'+str(i)+types[1])\n",
    "    std=pd.read_csv(hitterf+'/'+str(i)+types[2])\n",
    "    batter=pd.merge(adv,bbl,left_on='playerid',right_on='playerid')\n",
    "    batter=pd.merge(batter,std,left_on='playerid',right_on='playerid')\n",
    "    batter['season']=i\n",
    "    if i==years[0]:\n",
    "        hitdb=batter\n",
    "    else:\n",
    "        hitdb=pd.concat([hitdb,batter])"
   ]
  },
  {
   "cell_type": "code",
   "execution_count": null,
   "metadata": {},
   "outputs": [],
   "source": [
    "hitdb.shape\n"
   ]
  },
  {
   "cell_type": "code",
   "execution_count": null,
   "metadata": {},
   "outputs": [],
   "source": [
    "hitdb.columns"
   ]
  },
  {
   "cell_type": "code",
   "execution_count": null,
   "metadata": {},
   "outputs": [],
   "source": [
    "#delete duplicate columns and establish consistent column naming\n",
    "hitdb.drop(columns=['Name_y','Team_y','BABIP_y','Name','Team','PA_y','AVG_y'],inplace=True)\n",
    "hitdb.rename(columns={'Name_x':'Name',\n",
    "                     'Team_x':'Team',\n",
    "                     'PA_x':'PA',\n",
    "                     'AVG_x':'AVG',\n",
    "                     'BABIP_x':'BABIP'},inplace=True);"
   ]
  },
  {
   "cell_type": "code",
   "execution_count": null,
   "metadata": {},
   "outputs": [],
   "source": [
    "#Read in all 3 sets of data for each year from fangraphs and put it all into one database\n",
    "#standard,battedball,advanced are the 3 types\n",
    "for i in years:\n",
    "    adv=pd.read_csv(pitcherf+'/'+str(i)+types[0])\n",
    "    bbl=pd.read_csv(pitcherf+'/'+str(i)+types[1])\n",
    "    std=pd.read_csv(pitcherf+'/'+str(i)+types[2])\n",
    "    pitcher=pd.merge(adv,bbl,left_on='playerid',right_on='playerid')\n",
    "    pitcher=pd.merge(pitcher,std,left_on='playerid',right_on='playerid')\n",
    "    pitcher['season']=i\n",
    "    if i==years[0]:\n",
    "        pitdb=pitcher\n",
    "    else:\n",
    "        pitdb=pd.concat([pitdb,pitcher])"
   ]
  },
  {
   "cell_type": "code",
   "execution_count": null,
   "metadata": {},
   "outputs": [],
   "source": [
    "pitdb.shape"
   ]
  },
  {
   "cell_type": "code",
   "execution_count": null,
   "metadata": {
    "scrolled": true
   },
   "outputs": [],
   "source": [
    "pitdb.columns"
   ]
  },
  {
   "cell_type": "code",
   "execution_count": null,
   "metadata": {},
   "outputs": [],
   "source": [
    "#rename as above\n",
    "pitdb.drop(columns=['Name_y','Team_y','BABIP_y','Name','Team','ERA_y'],inplace=True)\n",
    "pitdb.rename(columns={'Name_x':'Name',\n",
    "                     'Team_x':'Team',\n",
    "                     'PA_x':'PA',\n",
    "                     'ERA_x':'ERA',\n",
    "                     'BABIP_x':'BABIP'},inplace=True);"
   ]
  },
  {
   "cell_type": "code",
   "execution_count": null,
   "metadata": {},
   "outputs": [],
   "source": [
    "hitdb.to_csv('../data/CleanedPlayerData/FangraphsHittersFinal.csv',index=False)\n",
    "pitdb.to_csv('../data/CleanedPlayerData/FangraphsPitchersFinal.csv',index=False)"
   ]
  },
  {
   "cell_type": "code",
   "execution_count": null,
   "metadata": {},
   "outputs": [],
   "source": [
    "#read in statcast data\n",
    "stathit=pd.read_csv('../data/CleanedPlayerData/StatcastHittersFinal.csv')\n",
    "statpit=pd.read_csv('../data/CleanedPlayerData/StatcastPitchersFinal.csv')"
   ]
  },
  {
   "cell_type": "code",
   "execution_count": null,
   "metadata": {},
   "outputs": [],
   "source": [
    "stathit.columns"
   ]
  },
  {
   "cell_type": "code",
   "execution_count": null,
   "metadata": {},
   "outputs": [],
   "source": [
    "statpit.columns"
   ]
  },
  {
   "cell_type": "code",
   "execution_count": null,
   "metadata": {},
   "outputs": [],
   "source": [
    "stathit['Name']=stathit[' first_name']+' '+stathit['last_name']\n",
    "statpit['Name']=statpit[' first_name']+' '+statpit['last_name']"
   ]
  },
  {
   "cell_type": "code",
   "execution_count": null,
   "metadata": {},
   "outputs": [],
   "source": [
    "stathit['Name'].head()"
   ]
  },
  {
   "cell_type": "code",
   "execution_count": null,
   "metadata": {},
   "outputs": [],
   "source": [
    "#Eliminate spaces from statcast names\n",
    "stathit['Name']=stathit['Name'].str.strip()\n",
    "statpit['Name']=statpit['Name'].str.strip()"
   ]
  },
  {
   "cell_type": "code",
   "execution_count": null,
   "metadata": {},
   "outputs": [],
   "source": [
    "stathit['season'].value_counts()"
   ]
  },
  {
   "cell_type": "code",
   "execution_count": null,
   "metadata": {},
   "outputs": [],
   "source": [
    "hitdb['Name'].head()"
   ]
  },
  {
   "cell_type": "code",
   "execution_count": null,
   "metadata": {},
   "outputs": [],
   "source": [
    "#merge statcast hitter data by name and season\n",
    "FH=pd.merge(hitdb,stathit,left_on=['Name','season'],right_on=['Name','season'],how='outer')"
   ]
  },
  {
   "cell_type": "code",
   "execution_count": null,
   "metadata": {},
   "outputs": [],
   "source": [
    "FH[FH['Name']=='Mike Trout']"
   ]
  },
  {
   "cell_type": "code",
   "execution_count": null,
   "metadata": {},
   "outputs": [],
   "source": [
    "FH.columns"
   ]
  },
  {
   "cell_type": "code",
   "execution_count": null,
   "metadata": {},
   "outputs": [],
   "source": [
    "#merge statcast pitcher data by name and season\n",
    "FP=pd.merge(pitdb,statpit,left_on=['Name','season'],right_on=['Name','season'],how='outer')"
   ]
  },
  {
   "cell_type": "code",
   "execution_count": null,
   "metadata": {},
   "outputs": [],
   "source": [
    "FP.columns"
   ]
  },
  {
   "cell_type": "code",
   "execution_count": null,
   "metadata": {},
   "outputs": [],
   "source": [
    "FP[FP['Name']=='Clayton Kershaw']"
   ]
  },
  {
   "cell_type": "code",
   "execution_count": null,
   "metadata": {},
   "outputs": [],
   "source": [
    "#relabel columns with hitter and pitcher designations so stats can be referenced when the entire database is merged\n",
    "Fpc=['p'+i for i in FP.columns]\n",
    "Hpc=['h'+i for i in FH.columns]"
   ]
  },
  {
   "cell_type": "code",
   "execution_count": null,
   "metadata": {},
   "outputs": [],
   "source": [
    "Fpc[0:10]"
   ]
  },
  {
   "cell_type": "code",
   "execution_count": null,
   "metadata": {},
   "outputs": [],
   "source": [
    "FH.columns=Hpc\n",
    "FP.columns=Fpc"
   ]
  },
  {
   "cell_type": "code",
   "execution_count": null,
   "metadata": {},
   "outputs": [],
   "source": [
    "FH.head()"
   ]
  },
  {
   "cell_type": "code",
   "execution_count": null,
   "metadata": {},
   "outputs": [],
   "source": [
    "FH.to_csv('../data/CleanedPlayerData/MergedHitters.csv',index=False)\n",
    "FP.to_csv('../data/CleanedPlayerData/MergedPitchers.csv',index=False)"
   ]
  },
  {
   "cell_type": "code",
   "execution_count": null,
   "metadata": {},
   "outputs": [],
   "source": []
  }
 ],
 "metadata": {
  "kernelspec": {
   "display_name": "Python 3",
   "language": "python",
   "name": "python3"
  },
  "language_info": {
   "codemirror_mode": {
    "name": "ipython",
    "version": 3
   },
   "file_extension": ".py",
   "mimetype": "text/x-python",
   "name": "python",
   "nbconvert_exporter": "python",
   "pygments_lexer": "ipython3",
   "version": "3.7.6"
  }
 },
 "nbformat": 4,
 "nbformat_minor": 4
}
