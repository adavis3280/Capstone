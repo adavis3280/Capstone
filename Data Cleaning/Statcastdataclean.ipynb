{
 "cells": [
  {
   "cell_type": "code",
   "execution_count": 1,
   "metadata": {},
   "outputs": [],
   "source": [
    "import pandas as pd\n",
    "import numpy as np"
   ]
  },
  {
   "cell_type": "code",
   "execution_count": 3,
   "metadata": {},
   "outputs": [],
   "source": [
    "years=[2015,2016,2017,2018,2019]"
   ]
  },
  {
   "cell_type": "code",
   "execution_count": 4,
   "metadata": {},
   "outputs": [],
   "source": [
    "for i in years:\n",
    "    batter=pd.read_csv('./data/StatcastData/HitterData/'+str(i)+'Statcast.csv')\n",
    "    batter['season']=i\n",
    "    if i==years[0]:\n",
    "        batdb=batter\n",
    "    else:\n",
    "        batdb=pd.concat([batdb,batter])"
   ]
  },
  {
   "cell_type": "code",
   "execution_count": 5,
   "metadata": {},
   "outputs": [],
   "source": [
    "for i in years:\n",
    "    pitcher=pd.read_csv('./data/StatcastData/PitcherData/'+str(i)+'Statcast.csv')\n",
    "    pitcher['season']=i\n",
    "    if i==years[0]:\n",
    "        pdb=pitcher\n",
    "    else:\n",
    "        pdb=pd.concat([pdb,pitcher])"
   ]
  },
  {
   "cell_type": "code",
   "execution_count": 7,
   "metadata": {},
   "outputs": [
    {
     "data": {
      "text/plain": [
       "Index(['last_name', ' first_name', 'player_id', 'attempts', 'avg_hit_angle',\n",
       "       'anglesweetspotpercent', 'max_hit_speed', 'avg_hit_speed', 'fbld', 'gb',\n",
       "       'max_distance', 'avg_distance', 'avg_hr_distance', 'ev95plus',\n",
       "       'ev95percent', 'barrels', 'brl_percent', 'brl_pa', 'season'],\n",
       "      dtype='object')"
      ]
     },
     "execution_count": 7,
     "metadata": {},
     "output_type": "execute_result"
    }
   ],
   "source": [
    "pdb.head()\n",
    "pdb.columns"
   ]
  },
  {
   "cell_type": "code",
   "execution_count": 8,
   "metadata": {},
   "outputs": [],
   "source": [
    "batdb.to_csv('./data/CleanedPlayerData/StatcastHittersFinal.csv',index=False)\n",
    "pdb.to_csv('./data/CleanedPlayerData/StatcastPitchersFinal.csv',index=False)"
   ]
  },
  {
   "cell_type": "code",
   "execution_count": 9,
   "metadata": {},
   "outputs": [],
   "source": [
    "import matplotlib.pyplot as plt"
   ]
  },
  {
   "cell_type": "code",
   "execution_count": 14,
   "metadata": {},
   "outputs": [
    {
     "data": {
      "text/plain": [
       "Text(0.5, 0, 'Launch Angle (degrees)')"
      ]
     },
     "execution_count": 14,
     "metadata": {},
     "output_type": "execute_result"
    },
    {
     "data": {
      "image/png": "[encoded data removed]",
      "text/plain": [
       "<Figure size 432x288 with 1 Axes>"
      ]
     },
     "metadata": {
      "needs_background": "light"
     },
     "output_type": "display_data"
    }
   ],
   "source": [
    "plt.hist(batdb['avg_hit_angle'],bins=20);\n",
    "plt.xlim(-60,50);\n",
    "plt.title('Distribution of Average Launch Angle')\n",
    "plt.xlabel('Launch Angle (degrees)');"
   ]
  },
  {
   "cell_type": "code",
   "execution_count": null,
   "metadata": {},
   "outputs": [],
   "source": []
  },
  {
   "cell_type": "code",
   "execution_count": null,
   "metadata": {},
   "outputs": [],
   "source": []
  }
 ],
 "metadata": {
  "kernelspec": {
   "display_name": "Python 3",
   "language": "python",
   "name": "python3"
  },
  "language_info": {
   "codemirror_mode": {
    "name": "ipython",
    "version": 3
   },
   "file_extension": ".py",
   "mimetype": "text/x-python",
   "name": "python",
   "nbconvert_exporter": "python",
   "pygments_lexer": "ipython3",
   "version": "3.7.6"
  }
 },
 "nbformat": 4,
 "nbformat_minor": 4
}
