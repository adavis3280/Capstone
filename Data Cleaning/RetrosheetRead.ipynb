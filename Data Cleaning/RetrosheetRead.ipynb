{
 "cells": [
  {
   "cell_type": "code",
   "execution_count": 1,
   "metadata": {},
   "outputs": [],
   "source": [
    "import pandas as pd\n",
    "import numpy as np"
   ]
  },
  {
   "cell_type": "code",
   "execution_count": 6,
   "metadata": {},
   "outputs": [],
   "source": [
    "output_plays = open('./ANAplays.csv', 'w')\n",
    "with open('./2019ANA.EVA', 'r') as f:\n",
    "    game_id = f.readline().split(',')[-1]\n",
    "    for line in f.readlines():\n",
    "        if line.split(',')[0] in ['id']:\n",
    "            game_id = line.split(',')[-1]\n",
    "        if line.split(',')[0] in ['play']:\n",
    "            output_plays.write(line.replace('\\n', '') + ',' + game_id.replace('\\n', '') + '\\n')"
   ]
  },
  {
   "cell_type": "code",
   "execution_count": 22,
   "metadata": {},
   "outputs": [],
   "source": [
    "ana=pd.read_csv('./ANAplays.csv',header=None)"
   ]
  },
  {
   "cell_type": "code",
   "execution_count": 23,
   "metadata": {},
   "outputs": [
    {
     "data": {
      "text/html": [
       "<div>\n",
       "<style scoped>\n",
       "    .dataframe tbody tr th:only-of-type {\n",
       "        vertical-align: middle;\n",
       "    }\n",
       "\n",
       "    .dataframe tbody tr th {\n",
       "        vertical-align: top;\n",
       "    }\n",
       "\n",
       "    .dataframe thead th {\n",
       "        text-align: right;\n",
       "    }\n",
       "</style>\n",
       "<table border=\"1\" class=\"dataframe\">\n",
       "  <thead>\n",
       "    <tr style=\"text-align: right;\">\n",
       "      <th></th>\n",
       "      <th>0</th>\n",
       "      <th>1</th>\n",
       "      <th>2</th>\n",
       "      <th>3</th>\n",
       "      <th>4</th>\n",
       "      <th>5</th>\n",
       "      <th>6</th>\n",
       "      <th>7</th>\n",
       "    </tr>\n",
       "  </thead>\n",
       "  <tbody>\n",
       "    <tr>\n",
       "      <th>0</th>\n",
       "      <td>play</td>\n",
       "      <td>1</td>\n",
       "      <td>0</td>\n",
       "      <td>choos001</td>\n",
       "      <td>22</td>\n",
       "      <td>FBBCH</td>\n",
       "      <td>HP</td>\n",
       "      <td>ANA201904040</td>\n",
       "    </tr>\n",
       "    <tr>\n",
       "      <th>1</th>\n",
       "      <td>play</td>\n",
       "      <td>1</td>\n",
       "      <td>0</td>\n",
       "      <td>odorr001</td>\n",
       "      <td>12</td>\n",
       "      <td>BFSS</td>\n",
       "      <td>K</td>\n",
       "      <td>ANA201904040</td>\n",
       "    </tr>\n",
       "    <tr>\n",
       "      <th>2</th>\n",
       "      <td>play</td>\n",
       "      <td>1</td>\n",
       "      <td>0</td>\n",
       "      <td>andre001</td>\n",
       "      <td>12</td>\n",
       "      <td>CCBX</td>\n",
       "      <td>S9/L.1-2</td>\n",
       "      <td>ANA201904040</td>\n",
       "    </tr>\n",
       "    <tr>\n",
       "      <th>3</th>\n",
       "      <td>play</td>\n",
       "      <td>1</td>\n",
       "      <td>0</td>\n",
       "      <td>gallj002</td>\n",
       "      <td>0</td>\n",
       "      <td>X</td>\n",
       "      <td>HR/8/F.2-H;1-H</td>\n",
       "      <td>ANA201904040</td>\n",
       "    </tr>\n",
       "    <tr>\n",
       "      <th>4</th>\n",
       "      <td>play</td>\n",
       "      <td>1</td>\n",
       "      <td>0</td>\n",
       "      <td>cabra002</td>\n",
       "      <td>30</td>\n",
       "      <td>BBBB</td>\n",
       "      <td>W</td>\n",
       "      <td>ANA201904040</td>\n",
       "    </tr>\n",
       "    <tr>\n",
       "      <th>...</th>\n",
       "      <td>...</td>\n",
       "      <td>...</td>\n",
       "      <td>...</td>\n",
       "      <td>...</td>\n",
       "      <td>...</td>\n",
       "      <td>...</td>\n",
       "      <td>...</td>\n",
       "      <td>...</td>\n",
       "    </tr>\n",
       "    <tr>\n",
       "      <th>7459</th>\n",
       "      <td>play</td>\n",
       "      <td>5</td>\n",
       "      <td>0</td>\n",
       "      <td>marij002</td>\n",
       "      <td>10</td>\n",
       "      <td>.*BX</td>\n",
       "      <td>13/G-</td>\n",
       "      <td>ANA201909290</td>\n",
       "    </tr>\n",
       "    <tr>\n",
       "      <th>7460</th>\n",
       "      <td>play</td>\n",
       "      <td>5</td>\n",
       "      <td>1</td>\n",
       "      <td>lastt001</td>\n",
       "      <td>0</td>\n",
       "      <td>NaN</td>\n",
       "      <td>NP</td>\n",
       "      <td>ANA201909290</td>\n",
       "    </tr>\n",
       "    <tr>\n",
       "      <th>7461</th>\n",
       "      <td>play</td>\n",
       "      <td>5</td>\n",
       "      <td>1</td>\n",
       "      <td>lastt001</td>\n",
       "      <td>0</td>\n",
       "      <td>NaN</td>\n",
       "      <td>NP</td>\n",
       "      <td>ANA201909290</td>\n",
       "    </tr>\n",
       "    <tr>\n",
       "      <th>7462</th>\n",
       "      <td>play</td>\n",
       "      <td>5</td>\n",
       "      <td>1</td>\n",
       "      <td>lastt001</td>\n",
       "      <td>0</td>\n",
       "      <td>NaN</td>\n",
       "      <td>NP</td>\n",
       "      <td>ANA201909290</td>\n",
       "    </tr>\n",
       "    <tr>\n",
       "      <th>7463</th>\n",
       "      <td>play</td>\n",
       "      <td>5</td>\n",
       "      <td>1</td>\n",
       "      <td>lastt001</td>\n",
       "      <td>0</td>\n",
       "      <td>NaN</td>\n",
       "      <td>NP</td>\n",
       "      <td>ANA201909290</td>\n",
       "    </tr>\n",
       "  </tbody>\n",
       "</table>\n",
       "<p>7464 rows × 8 columns</p>\n",
       "</div>"
      ],
      "text/plain": [
       "         0  1  2         3   4      5               6             7\n",
       "0     play  1  0  choos001  22  FBBCH              HP  ANA201904040\n",
       "1     play  1  0  odorr001  12   BFSS               K  ANA201904040\n",
       "2     play  1  0  andre001  12   CCBX        S9/L.1-2  ANA201904040\n",
       "3     play  1  0  gallj002   0      X  HR/8/F.2-H;1-H  ANA201904040\n",
       "4     play  1  0  cabra002  30   BBBB               W  ANA201904040\n",
       "...    ... .. ..       ...  ..    ...             ...           ...\n",
       "7459  play  5  0  marij002  10   .*BX           13/G-  ANA201909290\n",
       "7460  play  5  1  lastt001   0    NaN              NP  ANA201909290\n",
       "7461  play  5  1  lastt001   0    NaN              NP  ANA201909290\n",
       "7462  play  5  1  lastt001   0    NaN              NP  ANA201909290\n",
       "7463  play  5  1  lastt001   0    NaN              NP  ANA201909290\n",
       "\n",
       "[7464 rows x 8 columns]"
      ]
     },
     "execution_count": 23,
     "metadata": {},
     "output_type": "execute_result"
    }
   ],
   "source": [
    "ana"
   ]
  },
  {
   "cell_type": "code",
   "execution_count": 24,
   "metadata": {},
   "outputs": [],
   "source": [
    "cle=pd.read_csv()"
   ]
  },
  {
   "cell_type": "code",
   "execution_count": 27,
   "metadata": {},
   "outputs": [
    {
     "data": {
      "text/plain": [
       "''"
      ]
     },
     "execution_count": 27,
     "metadata": {},
     "output_type": "execute_result"
    }
   ],
   "source": []
  },
  {
   "cell_type": "code",
   "execution_count": null,
   "metadata": {},
   "outputs": [],
   "source": []
  },
  {
   "cell_type": "code",
   "execution_count": null,
   "metadata": {},
   "outputs": [],
   "source": []
  },
  {
   "cell_type": "code",
   "execution_count": null,
   "metadata": {},
   "outputs": [],
   "source": []
  },
  {
   "cell_type": "code",
   "execution_count": null,
   "metadata": {},
   "outputs": [],
   "source": []
  }
 ],
 "metadata": {
  "kernelspec": {
   "display_name": "Python 3",
   "language": "python",
   "name": "python3"
  },
  "language_info": {
   "codemirror_mode": {
    "name": "ipython",
    "version": 3
   },
   "file_extension": ".py",
   "mimetype": "text/x-python",
   "name": "python",
   "nbconvert_exporter": "python",
   "pygments_lexer": "ipython3",
   "version": "3.7.6"
  }
 },
 "nbformat": 4,
 "nbformat_minor": 4
}
