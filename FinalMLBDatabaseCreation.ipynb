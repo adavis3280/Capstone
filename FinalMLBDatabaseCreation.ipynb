{
 "cells": [
  {
   "cell_type": "code",
   "execution_count": null,
   "metadata": {},
   "outputs": [],
   "source": [
    "import pandas as pd\n",
    "import numpy as np"
   ]
  },
  {
   "cell_type": "code",
   "execution_count": null,
   "metadata": {},
   "outputs": [],
   "source": [
    "mlb=pd.read_csv('./data/mlb_PA_2013to2018.csv')"
   ]
  },
  {
   "cell_type": "code",
   "execution_count": null,
   "metadata": {},
   "outputs": [],
   "source": [
    "mlb.head()"
   ]
  },
  {
   "cell_type": "code",
   "execution_count": null,
   "metadata": {},
   "outputs": [],
   "source": [
    "mlb.shape"
   ]
  },
  {
   "cell_type": "code",
   "execution_count": null,
   "metadata": {},
   "outputs": [],
   "source": [
    "mlb.columns"
   ]
  },
  {
   "cell_type": "code",
   "execution_count": null,
   "metadata": {},
   "outputs": [],
   "source": [
    "#Drop unnecessary columns\n",
    "mlb_u=mlb.drop(columns=['Unnamed: 0', 'gameday_link'])"
   ]
  },
  {
   "cell_type": "code",
   "execution_count": null,
   "metadata": {},
   "outputs": [],
   "source": [
    "mlb_u.head(15)"
   ]
  },
  {
   "cell_type": "code",
   "execution_count": null,
   "metadata": {},
   "outputs": [],
   "source": [
    "#mlb_u['batter_team']=(mlb_u['pitcher_team']==mlb_u['home_team']).astype(int)\n",
    "#mlb_u['batter_team'][0]\n",
    "#for i in range(len(mlb_u['batter_team'])):\n",
    "#    if mlb_u['batter_team'][i]==1:\n",
    "#        mlb_u.loc[i,'batter_team']=mlb_u.loc[i,'away_team']\n",
    "#    else:\n",
    "#        mlb_u.loc[i,'batter_team']=mlb_u.loc[i,'home_team']\n",
    "#mlb_u.head(3)"
   ]
  },
  {
   "cell_type": "code",
   "execution_count": null,
   "metadata": {},
   "outputs": [],
   "source": [
    "mlb_u.isnull().sum()"
   ]
  },
  {
   "cell_type": "code",
   "execution_count": null,
   "metadata": {},
   "outputs": [],
   "source": [
    "#Drop null values, model needs player names to attach stats\n",
    "mlb_u=mlb_u.dropna()"
   ]
  },
  {
   "cell_type": "code",
   "execution_count": null,
   "metadata": {},
   "outputs": [],
   "source": [
    "mlb_u.shape"
   ]
  },
  {
   "cell_type": "code",
   "execution_count": null,
   "metadata": {},
   "outputs": [],
   "source": [
    "mlb_u['event'].value_counts()"
   ]
  },
  {
   "cell_type": "code",
   "execution_count": null,
   "metadata": {},
   "outputs": [],
   "source": [
    "#Use baseball knowledge to reformat events into 11 categories\n",
    "mlb_u['event']=mlb_u['event'].map({\n",
    "    'Strikeout':'K',\n",
    "    'Groundout':'GB',\n",
    "    'Single':'1B',\n",
    "    'Flyout':'FB',\n",
    "    'Walk':'BB',\n",
    "    'Lineout':'LD',\n",
    "    'Pop Out':'PU',\n",
    "    'Double':'2B',\n",
    "    'Home Run':'HR',\n",
    "    'Forceout':'GB',\n",
    "    'Grounded Into DP':'GB',\n",
    "    'Hit By Pitch':'HBP',\n",
    "    'Field Error':'Misc',\n",
    "    'Sac Fly':'Misc',\n",
    "    'Sac Bunt':'Misc',\n",
    "    'Intent Walk':'BB',\n",
    "    'Triple':'3B',\n",
    "    'Double Play':'GB',\n",
    "    'Runner Out':'Misc',\n",
    "    'Bunt Groundout':'Misc',\n",
    "    'Fielders Choice Out':'GB',\n",
    "    'Bunt Pop Out':'Misc',\n",
    "    'Strikeout - DP':'K',\n",
    "    'Fielders Choice':'GB',\n",
    "    'Fan interference':'HR',\n",
    "    'Batter Interference':'K',\n",
    "    'Catcher Interference':'1B',\n",
    "    'Sac Fly DP':'FB',\n",
    "    'Bunt Lineout':'Misc',\n",
    "    'Triple Play':'Misc',\n",
    "    'Sacrifice Bunt DP':'Misc'  \n",
    "});"
   ]
  },
  {
   "cell_type": "code",
   "execution_count": null,
   "metadata": {},
   "outputs": [],
   "source": [
    "mlb_u[mlb_u['season']>=2016].shape"
   ]
  },
  {
   "cell_type": "code",
   "execution_count": null,
   "metadata": {},
   "outputs": [],
   "source": [
    "mlb_u['event'].value_counts()"
   ]
  },
  {
   "cell_type": "code",
   "execution_count": null,
   "metadata": {},
   "outputs": [],
   "source": [
    "#read in player statistics data\n",
    "FH=pd.read_csv('./data/CleanedPlayerData/MergedHitters.csv')\n",
    "FP=pd.read_csv('./data/CleanedPlayerData/MergedPitchers.csv')"
   ]
  },
  {
   "cell_type": "code",
   "execution_count": null,
   "metadata": {},
   "outputs": [],
   "source": [
    "FH.shape,FP.shape,mlb_u.shape"
   ]
  },
  {
   "cell_type": "code",
   "execution_count": null,
   "metadata": {},
   "outputs": [],
   "source": [
    "FH.head()"
   ]
  },
  {
   "cell_type": "code",
   "execution_count": null,
   "metadata": {},
   "outputs": [],
   "source": [
    "FP.head()"
   ]
  },
  {
   "cell_type": "code",
   "execution_count": null,
   "metadata": {},
   "outputs": [],
   "source": [
    "#Merge outcomes data with player stats\n",
    "mlbx=pd.merge(mlb_u,FH,left_on=['batter_name','season'],right_on=['hName','hseason'],how='outer')"
   ]
  },
  {
   "cell_type": "code",
   "execution_count": null,
   "metadata": {},
   "outputs": [],
   "source": [
    "mlbx.shape\n",
    "mlbx.isnull().sum().head(25)"
   ]
  },
  {
   "cell_type": "code",
   "execution_count": null,
   "metadata": {},
   "outputs": [],
   "source": [
    "#do the same for pitchers\n",
    "mlbx=pd.merge(mlbx,FP,left_on=['pitcher_name','season'],right_on=['pName','pseason'],how='outer')"
   ]
  },
  {
   "cell_type": "code",
   "execution_count": null,
   "metadata": {},
   "outputs": [],
   "source": [
    "#statcast data is only available from 2015 on, so eliminate outcomes from before 2015\n",
    "mlbx.shape\n",
    "mlbx=mlbx[mlbx['season']>=2015]\n",
    "mlbx.shape"
   ]
  },
  {
   "cell_type": "code",
   "execution_count": null,
   "metadata": {},
   "outputs": [],
   "source": [
    "mlbx=mlbx.sort_values(by=['date','inning','inning_side'],ascending=[True,True,False])\n",
    "mlbx.head()"
   ]
  },
  {
   "cell_type": "code",
   "execution_count": null,
   "metadata": {},
   "outputs": [],
   "source": [
    "mlbx['away_team'].value_counts()"
   ]
  },
  {
   "cell_type": "code",
   "execution_count": null,
   "metadata": {},
   "outputs": [],
   "source": [
    "#remove all star games from the data as they are not normal at bats\n",
    "mlbx=mlbx[(mlbx['away_team']!='nas')&(mlbx['away_team']!='aas')]"
   ]
  },
  {
   "cell_type": "code",
   "execution_count": null,
   "metadata": {},
   "outputs": [],
   "source": [
    "mlbx.shape"
   ]
  },
  {
   "cell_type": "code",
   "execution_count": null,
   "metadata": {},
   "outputs": [],
   "source": [
    "mlbx['pseason'].value_counts()"
   ]
  },
  {
   "cell_type": "code",
   "execution_count": null,
   "metadata": {},
   "outputs": [],
   "source": [
    "#eliminate players whos season stats may be too small sample or irrelevant\n",
    "mlbx=mlbx[(mlbx['hPA']>=20)&(mlbx['pIP']>=3)]"
   ]
  },
  {
   "cell_type": "code",
   "execution_count": null,
   "metadata": {},
   "outputs": [],
   "source": [
    "mlbx.shape"
   ]
  },
  {
   "cell_type": "code",
   "execution_count": null,
   "metadata": {
    "scrolled": true
   },
   "outputs": [],
   "source": [
    "mlbx.head()"
   ]
  },
  {
   "cell_type": "code",
   "execution_count": null,
   "metadata": {},
   "outputs": [],
   "source": [
    "#convert percentage columns into usable numbers\n",
    "pctcols=[i for i in mlbx.columns if '%' in i]\n",
    "for i in pctcols:\n",
    "    mlbx[i]=mlbx[i].str.replace('%','').astype(float)/100\n",
    "mlbx['hHR/FB']=mlbx['hHR/FB'].str.replace('%','').astype(float)/100\n",
    "mlbx['pHR/FB']=mlbx['pHR/FB'].str.replace('%','').astype(float)/100"
   ]
  },
  {
   "cell_type": "code",
   "execution_count": null,
   "metadata": {},
   "outputs": [],
   "source": [
    "#remove events that happen because of runners on base, these will not be predictive\n",
    "mlbx=mlbx[mlbx['event']!='Misc']"
   ]
  },
  {
   "cell_type": "code",
   "execution_count": null,
   "metadata": {},
   "outputs": [],
   "source": [
    "from sklearn.linear_model import LogisticRegression\n",
    "from sklearn.preprocessing import StandardScaler\n",
    "from sklearn.model_selection import train_test_split\n",
    "import matplotlib.pyplot as plt\n",
    "\n",
    "from tensorflow.keras.models import Sequential\n",
    "from tensorflow.keras.layers import Dense\n",
    "from tensorflow.keras.utils import to_categorical\n",
    "from tensorflow.keras.layers import Dropout"
   ]
  },
  {
   "cell_type": "code",
   "execution_count": null,
   "metadata": {},
   "outputs": [],
   "source": [
    "FH.columns"
   ]
  },
  {
   "cell_type": "code",
   "execution_count": null,
   "metadata": {},
   "outputs": [],
   "source": [
    "FP.columns"
   ]
  },
  {
   "cell_type": "code",
   "execution_count": null,
   "metadata": {},
   "outputs": [],
   "source": [
    "mlb_u.columns"
   ]
  },
  {
   "cell_type": "code",
   "execution_count": null,
   "metadata": {},
   "outputs": [],
   "source": [
    "mlb_u['stand'].value_counts()\n",
    "mlb_u['p_throws'].value_counts()"
   ]
  },
  {
   "cell_type": "code",
   "execution_count": null,
   "metadata": {},
   "outputs": [],
   "source": [
    "#turn handedness into an integer variable, asking if b/p is right handed\n",
    "mlbx['stand']=(mlbx['stand']=='R').astype(int)\n",
    "mlbx['p_throws']=(mlbx['p_throws']=='R').astype(int)"
   ]
  },
  {
   "cell_type": "code",
   "execution_count": null,
   "metadata": {},
   "outputs": [],
   "source": [
    "mlbx['stand'].value_counts()\n",
    "mlbx['p_throws'].value_counts()"
   ]
  },
  {
   "cell_type": "code",
   "execution_count": null,
   "metadata": {},
   "outputs": [],
   "source": [
    "mlbx.dropna(axis='index',inplace=True)"
   ]
  },
  {
   "cell_type": "code",
   "execution_count": null,
   "metadata": {},
   "outputs": [],
   "source": [
    "mlbx.to_csv('./data/mlbxdb.csv',index=False)"
   ]
  },
  {
   "cell_type": "code",
   "execution_count": null,
   "metadata": {},
   "outputs": [],
   "source": [
    "#Drop columns that are duplicates or other statistics or give unnecessary data\n",
    "dropcols=['pitcher_name','batter_name','inning_side','inning','event','date','away_team','home_team','pitcher_team',\n",
    "          'hName','hTeam','hPA','hplayerid','hseason','hlast_name','h first_name','hplayer_id','hattempts','hG','hAB',\n",
    "          'pName','pTeam','pplayerid','pIP','pTBF','pseason','plast_name','p first_name','pplayer_id','pattempts']\n",
    "X=mlbx.drop(columns=dropcols)"
   ]
  },
  {
   "cell_type": "code",
   "execution_count": null,
   "metadata": {},
   "outputs": [],
   "source": [
    "import seaborn as sns"
   ]
  },
  {
   "cell_type": "code",
   "execution_count": null,
   "metadata": {
    "scrolled": false
   },
   "outputs": [],
   "source": [
    "#Show which statistics are most correlated to each outcome to help select features\n",
    "for i in mlbx['event'].unique():\n",
    "    X['event']=(mlbx['event']==i).astype(int)\n",
    "    print(f\"{i} baseline: {X['event'].value_counts(normalize=True)}\")\n",
    "    print(f'Most predictive variables for {i}: ')\n",
    "    print(X.drop(columns='event').corrwith(other=X['event']).sort_values(ascending=False)[0:10])\n",
    "    print('------------------------------------------')"
   ]
  },
  {
   "cell_type": "code",
   "execution_count": null,
   "metadata": {},
   "outputs": [],
   "source": [
    "import matplotlib.pyplot as plt"
   ]
  },
  {
   "cell_type": "code",
   "execution_count": null,
   "metadata": {},
   "outputs": [],
   "source": [
    "sea=[2015,2016,2017,2018,]\n",
    "gb=[]\n",
    "hrfb=[]\n",
    "k=[]\n",
    "hard=[]\n",
    "bb=[]\n",
    "ifh=[]\n",
    "pull=[]\n",
    "for i in sea:\n",
    "    gb.append(mlbx['hGB%'][(mlbx['season']==i)&(mlbx['hName']=='Jose Ramirez')].mean())\n",
    "    hrfb.append(mlbx['hHR/FB'][(mlbx['season']==i)&(mlbx['hName']=='Jose Ramirez')].mean())\n",
    "    k.append(mlbx['hK%'][(mlbx['season']==i)&(mlbx['hName']=='Jose Ramirez')].mean())\n",
    "    hard.append(mlbx['hHard%'][(mlbx['season']==i)&(mlbx['hName']=='Jose Ramirez')].mean())\n",
    "    bb.append(mlbx['hBB%'][(mlbx['season']==i)&(mlbx['hName']=='Jose Ramirez')].mean())\n",
    "    ifh.append(mlbx['hIFH%'][(mlbx['season']==i)&(mlbx['hName']=='Jose Ramirez')].mean())\n",
    "    pull.append(mlbx['hPull%'][(mlbx['season']==i)&(mlbx['hName']=='Jose Ramirez')].mean())\n",
    "plt.figure(figsize=(15,10))\n",
    "plt.plot(gb,label='GB%'); \n",
    "plt.plot(hrfb,label='HR/FB');\n",
    "plt.plot(k,label='K%'); \n",
    "plt.plot(hard,label='Hard Hit Ball%');\n",
    "plt.plot(bb,label='BB%'); \n",
    "plt.plot(ifh,label='Infield Hit%');\n",
    "plt.plot(pull,label='Pulled Ball Rate'); \n",
    "plt.ylabel('Percent');\n",
    "plt.xlabel('Year');\n",
    "plt.title('Y/Y Change in Stats for Jose Ramirez')\n",
    "plt.legend();"
   ]
  },
  {
   "cell_type": "code",
   "execution_count": null,
   "metadata": {},
   "outputs": [],
   "source": []
  },
  {
   "cell_type": "code",
   "execution_count": null,
   "metadata": {},
   "outputs": [],
   "source": []
  },
  {
   "cell_type": "code",
   "execution_count": null,
   "metadata": {},
   "outputs": [],
   "source": []
  },
  {
   "cell_type": "code",
   "execution_count": null,
   "metadata": {},
   "outputs": [],
   "source": []
  },
  {
   "cell_type": "code",
   "execution_count": null,
   "metadata": {},
   "outputs": [],
   "source": []
  }
 ],
 "metadata": {
  "kernelspec": {
   "display_name": "Python 3",
   "language": "python",
   "name": "python3"
  },
  "language_info": {
   "codemirror_mode": {
    "name": "ipython",
    "version": 3
   },
   "file_extension": ".py",
   "mimetype": "text/x-python",
   "name": "python",
   "nbconvert_exporter": "python",
   "pygments_lexer": "ipython3",
   "version": "3.7.6"
  }
 },
 "nbformat": 4,
 "nbformat_minor": 4
}
