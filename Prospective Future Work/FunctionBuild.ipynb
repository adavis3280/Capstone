{
 "cells": [
  {
   "cell_type": "code",
   "execution_count": null,
   "metadata": {},
   "outputs": [],
   "source": [
    "import pandas as pd\n",
    "import numpy as np"
   ]
  },
  {
   "cell_type": "code",
   "execution_count": null,
   "metadata": {},
   "outputs": [],
   "source": [
    "FH=pd.read_csv('./data/CleanedPlayerData/MergedHitters.csv')\n",
    "FP=pd.read_csv('./data/CleanedPlayerData/MergedPitchers.csv')"
   ]
  },
  {
   "cell_type": "code",
   "execution_count": null,
   "metadata": {},
   "outputs": [],
   "source": [
    "pctcols=[i for i in FH.columns if '%' in i]\n",
    "for i in pctcols:\n",
    "    FH[i]=FH[i].str.replace('%','').astype(float)/100\n",
    "pctcols=[i for i in FP.columns if '%' in i]\n",
    "for i in pctcols:\n",
    "    FP[i]=FP[i].str.replace('%','').astype(float)/100\n",
    "FH['hHR/FB']=FH['hHR/FB'].str.replace('%','').astype(float)/100\n",
    "FP['pHR/FB']=FP['pHR/FB'].str.replace('%','').astype(float)/100"
   ]
  },
  {
   "cell_type": "code",
   "execution_count": null,
   "metadata": {},
   "outputs": [],
   "source": [
    "FH.columns"
   ]
  },
  {
   "cell_type": "code",
   "execution_count": null,
   "metadata": {},
   "outputs": [],
   "source": [
    "FP.columns"
   ]
  },
  {
   "cell_type": "code",
   "execution_count": null,
   "metadata": {},
   "outputs": [],
   "source": [
    "def construct_input(atts,parr,harr):\n",
    "    atts[2]=float(atts[2])\n",
    "    features=['stand','p_throws', 'season',\n",
    "          'hBB%','hK%','hSpd','hPull%','hGB%','hLD%','hFB%',\n",
    "          'havg_hit_angle','hmax_hit_speed', 'havg_hit_speed', 'hfbld','hgb','hev95percent',\n",
    "          'pBB%','pK%','pPull%','pGB%','pLD%','pFB%',\n",
    "          'pavg_hit_angle','pmax_hit_speed', 'pavg_hit_speed', 'pfbld','pgb','pev95percent']\n",
    "    hfeats=['hBB%','hK%','hSpd','hPull%','hGB%','hLD%','hFB%',\n",
    "          'havg_hit_angle','hmax_hit_speed', 'havg_hit_speed', 'hfbld','hgb','hev95percent']\n",
    "    pfeats=['pBB%','pK%','pPull%','pGB%','pLD%','pFB%',\n",
    "          'pavg_hit_angle','pmax_hit_speed', 'pavg_hit_speed', 'pfbld','pgb','pev95percent']\n",
    "    data_z=np.zeros((1,3))\n",
    "    df=pd.DataFrame(data=data_z,columns=features[0:3])\n",
    "    df.loc[0,'stand']=atts[0]\n",
    "    df.loc[0,'p_throws']=atts[1]\n",
    "    df.loc[0,'season']=atts[2]\n",
    "    for i in hfeats:\n",
    "        df[i]=harr[i].values\n",
    "    for i in pfeats:\n",
    "        df[i]=parr[i].values\n",
    "    return df"
   ]
  },
  {
   "cell_type": "code",
   "execution_count": null,
   "metadata": {},
   "outputs": [],
   "source": [
    "def simAB(pitcher,hitter,ispRH=True,isbRH=True,pseason=2019,hseason=2019,season=2019,output='probs'):\n",
    "    pitcher=FP[(FP['pName']==pitcher)&(FP['pseason']==pseason)]\n",
    "    hitter=FH[(FH['hName']==hitter)&(FH['hseason']==hseason)]\n",
    "    atts=[float(int(isbRH)),float(int(ispRH)),season]\n",
    "    feats_arr=construct_input(atts,pitcher,hitter)\n",
    "    feats_sc=ss.transform(feats_arr)\n",
    "    preds=model.predict(feats_sc)\n",
    "    preds_clean=np.round(preds,3)\n",
    "    if output=='probs':\n",
    "        cols=['GB', '2B', '1B', 'K', 'BB', 'PU', 'FB', 'LD', 'HR', 'HBP', '3B']\n",
    "        df=pd.DataFrame(data=preds_clean,columns=cols)\n",
    "    return df"
   ]
  },
  {
   "cell_type": "code",
   "execution_count": null,
   "metadata": {},
   "outputs": [],
   "source": [
    "simAB('Corey Kluber','Miguel Sano')"
   ]
  },
  {
   "cell_type": "code",
   "execution_count": null,
   "metadata": {},
   "outputs": [],
   "source": []
  },
  {
   "cell_type": "code",
   "execution_count": null,
   "metadata": {},
   "outputs": [],
   "source": []
  },
  {
   "cell_type": "code",
   "execution_count": null,
   "metadata": {},
   "outputs": [],
   "source": []
  },
  {
   "cell_type": "code",
   "execution_count": null,
   "metadata": {},
   "outputs": [],
   "source": []
  },
  {
   "cell_type": "code",
   "execution_count": null,
   "metadata": {},
   "outputs": [],
   "source": []
  },
  {
   "cell_type": "code",
   "execution_count": null,
   "metadata": {},
   "outputs": [],
   "source": []
  }
 ],
 "metadata": {
  "kernelspec": {
   "display_name": "Python 3",
   "language": "python",
   "name": "python3"
  },
  "language_info": {
   "codemirror_mode": {
    "name": "ipython",
    "version": 3
   },
   "file_extension": ".py",
   "mimetype": "text/x-python",
   "name": "python",
   "nbconvert_exporter": "python",
   "pygments_lexer": "ipython3",
   "version": "3.7.6"
  }
 },
 "nbformat": 4,
 "nbformat_minor": 4
}
