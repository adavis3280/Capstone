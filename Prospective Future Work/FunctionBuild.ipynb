{
 "cells": [
  {
   "cell_type": "code",
   "execution_count": 3,
   "metadata": {},
   "outputs": [],
   "source": [
    "import pandas as pd\n",
    "import numpy as np"
   ]
  },
  {
   "cell_type": "code",
   "execution_count": 4,
   "metadata": {},
   "outputs": [],
   "source": [
    "FH=pd.read_csv('./data/CleanedPlayerData/MergedHitters.csv')\n",
    "FP=pd.read_csv('./data/CleanedPlayerData/MergedPitchers.csv')"
   ]
  },
  {
   "cell_type": "code",
   "execution_count": null,
   "metadata": {},
   "outputs": [],
   "source": [
    "pctcols=[i for i in FH.columns if '%' in i]\n",
    "for i in pctcols:\n",
    "    FH[i]=FH[i].str.replace('%','').astype(float)/100\n",
    "pctcols=[i for i in FP.columns if '%' in i]\n",
    "for i in pctcols:\n",
    "    FP[i]=FP[i].str.replace('%','').astype(float)/100\n",
    "FH['hHR/FB']=FH['hHR/FB'].str.replace('%','').astype(float)/100\n",
    "FP['pHR/FB']=FP['pHR/FB'].str.replace('%','').astype(float)/100"
   ]
  },
  {
   "cell_type": "code",
   "execution_count": 6,
   "metadata": {},
   "outputs": [
    {
     "data": {
      "text/plain": [
       "Index(['hName', 'hTeam', 'hPA', 'hBB%', 'hK%', 'hBB/K', 'hAVG', 'hOBP', 'hSLG',\n",
       "       'hOPS', 'hISO', 'hSpd', 'hBABIP', 'hUBR', 'hwGDP', 'hwSB', 'hwRC',\n",
       "       'hwRAA', 'hwOBA', 'hwRC+', 'hplayerid', 'hGB/FB', 'hLD%', 'hGB%',\n",
       "       'hFB%', 'hIFFB%', 'hHR/FB', 'hIFH', 'hIFH%', 'hBUH', 'hBUH%', 'hPull%',\n",
       "       'hCent%', 'hOppo%', 'hSoft%', 'hMed%', 'hHard%', 'hG', 'hAB', 'hH',\n",
       "       'h1B', 'h2B', 'h3B', 'hHR', 'hR', 'hRBI', 'hBB', 'hIBB', 'hSO', 'hHBP',\n",
       "       'hSF', 'hSH', 'hGDP', 'hSB', 'hCS', 'hseason', 'hlast_name',\n",
       "       'h first_name', 'hplayer_id', 'hattempts', 'havg_hit_angle',\n",
       "       'hanglesweetspotpercent', 'hmax_hit_speed', 'havg_hit_speed', 'hfbld',\n",
       "       'hgb', 'hmax_distance', 'havg_distance', 'havg_hr_distance',\n",
       "       'hev95plus', 'hev95percent', 'hbarrels', 'hbrl_percent', 'hbrl_pa'],\n",
       "      dtype='object')"
      ]
     },
     "execution_count": 6,
     "metadata": {},
     "output_type": "execute_result"
    }
   ],
   "source": [
    "FH.columns"
   ]
  },
  {
   "cell_type": "code",
   "execution_count": 7,
   "metadata": {},
   "outputs": [
    {
     "data": {
      "text/plain": [
       "Index(['pName', 'pTeam', 'pK/9', 'pBB/9', 'pK/BB', 'pHR/9', 'pK%', 'pBB%',\n",
       "       'pK-BB%', 'pAVG', 'pWHIP', 'pBABIP', 'pLOB%', 'pERA-', 'pFIP-',\n",
       "       'pxFIP-', 'pERA', 'pFIP', 'pE-F', 'pxFIP', 'pSIERA', 'pplayerid',\n",
       "       'pGB/FB', 'pLD%', 'pGB%', 'pFB%', 'pIFFB%', 'pHR/FB', 'pRS', 'pRS/9',\n",
       "       'pBalls', 'pStrikes', 'pPitches', 'pPull%', 'pCent%', 'pOppo%',\n",
       "       'pSoft%', 'pMed%', 'pHard%', 'pW', 'pL', 'pG', 'pGS', 'pCG', 'pShO',\n",
       "       'pSV', 'pHLD', 'pBS', 'pIP', 'pTBF', 'pH', 'pR', 'pER', 'pHR', 'pBB',\n",
       "       'pIBB', 'pHBP', 'pWP', 'pBK', 'pSO', 'pseason', 'plast_name',\n",
       "       'p first_name', 'pplayer_id', 'pattempts', 'pavg_hit_angle',\n",
       "       'panglesweetspotpercent', 'pmax_hit_speed', 'pavg_hit_speed', 'pfbld',\n",
       "       'pgb', 'pmax_distance', 'pavg_distance', 'pavg_hr_distance',\n",
       "       'pev95plus', 'pev95percent', 'pbarrels', 'pbrl_percent', 'pbrl_pa'],\n",
       "      dtype='object')"
      ]
     },
     "execution_count": 7,
     "metadata": {},
     "output_type": "execute_result"
    }
   ],
   "source": [
    "FP.columns"
   ]
  },
  {
   "cell_type": "code",
   "execution_count": 10,
   "metadata": {},
   "outputs": [],
   "source": [
    "def construct_input(atts,parr,harr):\n",
    "    atts[2]=float(atts[2])\n",
    "    features=['stand','p_throws', 'season',\n",
    "          'hBB%','hK%','hSpd','hPull%','hGB%','hLD%','hFB%',\n",
    "          'havg_hit_angle','hmax_hit_speed', 'havg_hit_speed', 'hfbld','hgb','hev95percent',\n",
    "          'pBB%','pK%','pPull%','pGB%','pLD%','pFB%',\n",
    "          'pavg_hit_angle','pmax_hit_speed', 'pavg_hit_speed', 'pfbld','pgb','pev95percent']\n",
    "    hfeats=['hBB%','hK%','hSpd','hPull%','hGB%','hLD%','hFB%',\n",
    "          'havg_hit_angle','hmax_hit_speed', 'havg_hit_speed', 'hfbld','hgb','hev95percent']\n",
    "    pfeats=['pBB%','pK%','pPull%','pGB%','pLD%','pFB%',\n",
    "          'pavg_hit_angle','pmax_hit_speed', 'pavg_hit_speed', 'pfbld','pgb','pev95percent']\n",
    "    data_z=np.zeros((1,3))\n",
    "    df=pd.DataFrame(data=data_z,columns=features[0:3])\n",
    "    df.loc[0,'stand']=atts[0]\n",
    "    df.loc[0,'p_throws']=atts[1]\n",
    "    df.loc[0,'season']=atts[2]\n",
    "    for i in hfeats:\n",
    "        df[i]=harr[i].values\n",
    "    for i in pfeats:\n",
    "        df[i]=parr[i].values\n",
    "    return df"
   ]
  },
  {
   "cell_type": "code",
   "execution_count": 19,
   "metadata": {},
   "outputs": [],
   "source": [
    "def simAB(pitcher,hitter,ispRH=True,isbRH=True,pseason=2019,hseason=2019,season=2019,output='probs'):\n",
    "    pitcher=FP[(FP['pName']==pitcher)&(FP['pseason']==pseason)]\n",
    "    hitter=FH[(FH['hName']==hitter)&(FH['hseason']==hseason)]\n",
    "    atts=[float(int(isbRH)),float(int(ispRH)),season]\n",
    "    feats_arr=construct_input(atts,pitcher,hitter)\n",
    "    feats_sc=ss.transform(feats_arr)\n",
    "    preds=model.predict(feats_sc)\n",
    "    preds_clean=np.round(preds,3)\n",
    "    if output=='probs':\n",
    "        cols=['GB', '2B', '1B', 'K', 'BB', 'PU', 'FB', 'LD', 'HR', 'HBP', '3B']\n",
    "        df=pd.DataFrame(data=preds_clean,columns=cols)\n",
    "    return df"
   ]
  },
  {
   "cell_type": "code",
   "execution_count": 20,
   "metadata": {},
   "outputs": [
    {
     "ename": "NameError",
     "evalue": "name 'ss' is not defined",
     "output_type": "error",
     "traceback": [
      "\u001b[0;31m---------------------------------------------------------------------------\u001b[0m",
      "\u001b[0;31mNameError\u001b[0m                                 Traceback (most recent call last)",
      "\u001b[0;32m<ipython-input-20-535ab2920b02>\u001b[0m in \u001b[0;36m<module>\u001b[0;34m\u001b[0m\n\u001b[0;32m----> 1\u001b[0;31m \u001b[0msimAB\u001b[0m\u001b[0;34m(\u001b[0m\u001b[0;34m'Corey Kluber'\u001b[0m\u001b[0;34m,\u001b[0m\u001b[0;34m'Miguel Sano'\u001b[0m\u001b[0;34m)\u001b[0m\u001b[0;34m\u001b[0m\u001b[0;34m\u001b[0m\u001b[0m\n\u001b[0m",
      "\u001b[0;32m<ipython-input-19-3bc7ebe10b9e>\u001b[0m in \u001b[0;36msimAB\u001b[0;34m(pitcher, hitter, ispRH, isbRH, pseason, hseason, season, output)\u001b[0m\n\u001b[1;32m      4\u001b[0m     \u001b[0matts\u001b[0m\u001b[0;34m=\u001b[0m\u001b[0;34m[\u001b[0m\u001b[0mfloat\u001b[0m\u001b[0;34m(\u001b[0m\u001b[0mint\u001b[0m\u001b[0;34m(\u001b[0m\u001b[0misbRH\u001b[0m\u001b[0;34m)\u001b[0m\u001b[0;34m)\u001b[0m\u001b[0;34m,\u001b[0m\u001b[0mfloat\u001b[0m\u001b[0;34m(\u001b[0m\u001b[0mint\u001b[0m\u001b[0;34m(\u001b[0m\u001b[0mispRH\u001b[0m\u001b[0;34m)\u001b[0m\u001b[0;34m)\u001b[0m\u001b[0;34m,\u001b[0m\u001b[0mseason\u001b[0m\u001b[0;34m]\u001b[0m\u001b[0;34m\u001b[0m\u001b[0;34m\u001b[0m\u001b[0m\n\u001b[1;32m      5\u001b[0m     \u001b[0mfeats_arr\u001b[0m\u001b[0;34m=\u001b[0m\u001b[0mconstruct_input\u001b[0m\u001b[0;34m(\u001b[0m\u001b[0matts\u001b[0m\u001b[0;34m,\u001b[0m\u001b[0mpitcher\u001b[0m\u001b[0;34m,\u001b[0m\u001b[0mhitter\u001b[0m\u001b[0;34m)\u001b[0m\u001b[0;34m\u001b[0m\u001b[0;34m\u001b[0m\u001b[0m\n\u001b[0;32m----> 6\u001b[0;31m     \u001b[0mfeats_sc\u001b[0m\u001b[0;34m=\u001b[0m\u001b[0mss\u001b[0m\u001b[0;34m.\u001b[0m\u001b[0mtransform\u001b[0m\u001b[0;34m(\u001b[0m\u001b[0mfeats_arr\u001b[0m\u001b[0;34m)\u001b[0m\u001b[0;34m\u001b[0m\u001b[0;34m\u001b[0m\u001b[0m\n\u001b[0m\u001b[1;32m      7\u001b[0m     \u001b[0mpreds\u001b[0m\u001b[0;34m=\u001b[0m\u001b[0mmodel\u001b[0m\u001b[0;34m.\u001b[0m\u001b[0mpredict\u001b[0m\u001b[0;34m(\u001b[0m\u001b[0mfeats_sc\u001b[0m\u001b[0;34m)\u001b[0m\u001b[0;34m\u001b[0m\u001b[0;34m\u001b[0m\u001b[0m\n\u001b[1;32m      8\u001b[0m     \u001b[0mpreds_clean\u001b[0m\u001b[0;34m=\u001b[0m\u001b[0mnp\u001b[0m\u001b[0;34m.\u001b[0m\u001b[0mround\u001b[0m\u001b[0;34m(\u001b[0m\u001b[0mpreds\u001b[0m\u001b[0;34m,\u001b[0m\u001b[0;36m3\u001b[0m\u001b[0;34m)\u001b[0m\u001b[0;34m\u001b[0m\u001b[0;34m\u001b[0m\u001b[0m\n",
      "\u001b[0;31mNameError\u001b[0m: name 'ss' is not defined"
     ]
    }
   ],
   "source": [
    "simAB('Corey Kluber','Miguel Sano')"
   ]
  },
  {
   "cell_type": "code",
   "execution_count": null,
   "metadata": {},
   "outputs": [],
   "source": []
  },
  {
   "cell_type": "code",
   "execution_count": null,
   "metadata": {},
   "outputs": [],
   "source": []
  },
  {
   "cell_type": "code",
   "execution_count": null,
   "metadata": {},
   "outputs": [],
   "source": []
  },
  {
   "cell_type": "code",
   "execution_count": null,
   "metadata": {},
   "outputs": [],
   "source": []
  },
  {
   "cell_type": "code",
   "execution_count": null,
   "metadata": {},
   "outputs": [],
   "source": []
  },
  {
   "cell_type": "code",
   "execution_count": null,
   "metadata": {},
   "outputs": [],
   "source": []
  }
 ],
 "metadata": {
  "kernelspec": {
   "display_name": "Python 3",
   "language": "python",
   "name": "python3"
  },
  "language_info": {
   "codemirror_mode": {
    "name": "ipython",
    "version": 3
   },
   "file_extension": ".py",
   "mimetype": "text/x-python",
   "name": "python",
   "nbconvert_exporter": "python",
   "pygments_lexer": "ipython3",
   "version": "3.7.6"
  }
 },
 "nbformat": 4,
 "nbformat_minor": 4
}
