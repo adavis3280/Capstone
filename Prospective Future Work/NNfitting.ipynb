{
 "cells": [
  {
   "cell_type": "code",
   "execution_count": null,
   "metadata": {},
   "outputs": [],
   "source": [
    "from sklearn.preprocessing import StandardScaler\n",
    "from sklearn.model_selection import train_test_split\n",
    "import matplotlib.pyplot as plt\n",
    "\n",
    "from tensorflow.keras.models import Sequential\n",
    "from tensorflow.keras.layers import Dense,Dropout\n",
    "from tensorflow.keras.utils import to_categorical\n",
    "from sklearn.preprocessing import OneHotEncoder"
   ]
  },
  {
   "cell_type": "code",
   "execution_count": null,
   "metadata": {},
   "outputs": [],
   "source": [
    "import pandas as pd\n",
    "import numpy as np"
   ]
  },
  {
   "cell_type": "code",
   "execution_count": null,
   "metadata": {},
   "outputs": [],
   "source": [
    "mlbx=pd.read_csv('./data/mlbxdb.csv')"
   ]
  },
  {
   "cell_type": "code",
   "execution_count": null,
   "metadata": {},
   "outputs": [],
   "source": [
    "mlbx.shape"
   ]
  },
  {
   "cell_type": "code",
   "execution_count": null,
   "metadata": {},
   "outputs": [],
   "source": [
    "#create a variable to help model understand opposite handed hitters have historically done better\n",
    "mlbx['isoppo']=(mlbx['stand']!=mlbx['p_throws']).astype(int)*1000"
   ]
  },
  {
   "cell_type": "code",
   "execution_count": null,
   "metadata": {},
   "outputs": [],
   "source": [
    "mlbx['isoppo'].value_counts()"
   ]
  },
  {
   "cell_type": "code",
   "execution_count": null,
   "metadata": {},
   "outputs": [],
   "source": [
    "features=['stand','p_throws', 'season','isoppo',\n",
    "          'hBB%','hK%','hSpd','hPull%','hGB%','hLD%','hFB%','hBABIP','hwOBA','hSoft%', 'hMed%', 'hHard%','hHR/FB',\n",
    "          'havg_hit_angle','hmax_hit_speed', 'havg_hit_speed', 'hfbld','hgb','hev95percent',\n",
    "          'pBB%','pK%','pPull%','pGB%','pLD%','pFB%','pBABIP','pSIERA','pSoft%', 'pMed%', 'pHard%','pHR/FB',\n",
    "          'pavg_hit_angle','pmax_hit_speed', 'pavg_hit_speed', 'pfbld','pgb','pev95percent']"
   ]
  },
  {
   "cell_type": "code",
   "execution_count": null,
   "metadata": {},
   "outputs": [],
   "source": [
    "mlbx['event'].value_counts(normalize=True)"
   ]
  },
  {
   "cell_type": "code",
   "execution_count": null,
   "metadata": {},
   "outputs": [],
   "source": [
    "X=mlbx[features]\n",
    "y=mlbx['event']"
   ]
  },
  {
   "cell_type": "code",
   "execution_count": null,
   "metadata": {},
   "outputs": [],
   "source": [
    "#scale x and y data\n",
    "ss=StandardScaler()\n",
    "Xsc=ss.fit_transform(X)"
   ]
  },
  {
   "cell_type": "code",
   "execution_count": null,
   "metadata": {},
   "outputs": [],
   "source": [
    "#reshape x and y into the proper format to feed to a neural network\n",
    "y=pd.DataFrame(columns=y.unique()) \n",
    "for i in y:\n",
    "    y[i]=(mlbx['event']==i).astype(int)"
   ]
  },
  {
   "cell_type": "code",
   "execution_count": null,
   "metadata": {},
   "outputs": [],
   "source": [
    "y"
   ]
  },
  {
   "cell_type": "code",
   "execution_count": null,
   "metadata": {},
   "outputs": [],
   "source": [
    "y.shape"
   ]
  },
  {
   "cell_type": "code",
   "execution_count": null,
   "metadata": {},
   "outputs": [],
   "source": [
    "X.shape"
   ]
  },
  {
   "cell_type": "code",
   "execution_count": null,
   "metadata": {},
   "outputs": [],
   "source": [
    "X.shape\n",
    "sh=X.shape[1]"
   ]
  },
  {
   "cell_type": "code",
   "execution_count": null,
   "metadata": {},
   "outputs": [],
   "source": [
    "#create neural network\n",
    "model=Sequential()\n",
    "model.add(Dense(4_000, activation=\"relu\", input_shape=(sh,)))\n",
    "model.add(Dropout(.5))\n",
    "model.add(Dense(800, activation=\"relu\"))\n",
    "model.add(Dropout(.5))\n",
    "model.add(Dense(300, activation=\"relu\"))\n",
    "model.add(Dropout(.5))\n",
    "model.add(Dense(100, activation=\"relu\"))\n",
    "model.add(Dropout(.5))\n",
    "model.add(Dense(20, activation=\"relu\"))\n",
    "model.add(Dropout(.5))\n",
    "model.add(Dense(11, activation=\"softmax\"))"
   ]
  },
  {
   "cell_type": "code",
   "execution_count": null,
   "metadata": {},
   "outputs": [],
   "source": [
    "#compile model\n",
    "model.compile(\n",
    "    optimizer=\"adam\",\n",
    "    loss=\"categorical_crossentropy\",\n",
    "    metrics=['categorical_accuracy']\n",
    ")"
   ]
  },
  {
   "cell_type": "code",
   "execution_count": null,
   "metadata": {
    "scrolled": false
   },
   "outputs": [],
   "source": [
    "model.fit(\n",
    "    Xsc, y,\n",
    "    batch_size=512,\n",
    "    epochs=12,\n",
    "    validation_split=0.1\n",
    ")"
   ]
  },
  {
   "cell_type": "code",
   "execution_count": null,
   "metadata": {},
   "outputs": [],
   "source": [
    "#check out one input vector\n",
    "X.loc[0,:]"
   ]
  },
  {
   "cell_type": "code",
   "execution_count": null,
   "metadata": {},
   "outputs": [],
   "source": [
    "mlbx.iloc[0,0:12]"
   ]
  },
  {
   "cell_type": "code",
   "execution_count": null,
   "metadata": {},
   "outputs": [],
   "source": [
    "#read in initial player statistical data\n",
    "FH=pd.read_csv('./data/CleanedPlayerData/MergedHitters.csv')\n",
    "FP=pd.read_csv('./data/CleanedPlayerData/MergedPitchers.csv')"
   ]
  },
  {
   "cell_type": "code",
   "execution_count": null,
   "metadata": {},
   "outputs": [],
   "source": [
    "#convert percentage data from a string to usable data format\n",
    "pctcols=[i for i in FH.columns if '%' in i]\n",
    "for i in pctcols:\n",
    "    FH[i]=FH[i].str.replace('%','').astype(float)/100\n",
    "pctcols=[i for i in FP.columns if '%' in i]\n",
    "for i in pctcols:\n",
    "    FP[i]=FP[i].str.replace('%','').astype(float)/100\n",
    "FH['hHR/FB']=FH['hHR/FB'].str.replace('%','').astype(float)/100\n",
    "FP['pHR/FB']=FP['pHR/FB'].str.replace('%','').astype(float)/100"
   ]
  },
  {
   "cell_type": "code",
   "execution_count": null,
   "metadata": {},
   "outputs": [],
   "source": [
    "def construct_input(atts,parr,harr):\n",
    "    '''\n",
    "    This function takes in a descriptive vector, a batter stats vector, and a hitter stats vector, \n",
    "    and constructs them into the correct data format to be fed into a fit neural network model to make predictions\n",
    "    '''\n",
    "    atts[2]=float(atts[2])\n",
    "    features=['stand','p_throws', 'season', 'isoppo',\n",
    "          'hBB%','hK%','hSpd','hPull%','hGB%','hLD%','hFB%','hBABIP','hwOBA','hSoft%', 'hMed%', 'hHard%','hHR/FB',\n",
    "          'havg_hit_angle','hmax_hit_speed', 'havg_hit_speed', 'hfbld','hgb','hev95percent',\n",
    "          'pBB%','pK%','pPull%','pGB%','pLD%','pFB%','pBABIP','pSIERA','pSoft%', 'pMed%', 'pHard%','pHR/FB',\n",
    "          'pavg_hit_angle','pmax_hit_speed', 'pavg_hit_speed', 'pfbld','pgb','pev95percent']\n",
    "    hfeats=['hBB%','hK%','hSpd','hPull%','hGB%','hLD%','hFB%','hBABIP','hwOBA','hSoft%', 'hMed%', 'hHard%','hHR/FB',\n",
    "          'havg_hit_angle','hmax_hit_speed', 'havg_hit_speed', 'hfbld','hgb','hev95percent']\n",
    "    pfeats=['pBB%','pK%','pPull%','pGB%','pLD%','pFB%','pBABIP','pSIERA','pSoft%', 'pMed%', 'pHard%','pHR/FB',\n",
    "          'pavg_hit_angle','pmax_hit_speed', 'pavg_hit_speed', 'pfbld','pgb','pev95percent']\n",
    "    data_z=np.zeros((1,4))\n",
    "    df=pd.DataFrame(data=data_z,columns=features[0:4])\n",
    "    df.loc[0,'stand']=atts[0]\n",
    "    df.loc[0,'p_throws']=atts[1]\n",
    "    df.loc[0,'season']=atts[2]\n",
    "    df.loc[0,'isoppo']=atts[3]\n",
    "    for i in hfeats:\n",
    "        df[i]=harr[i].values\n",
    "    for i in pfeats:\n",
    "        df[i]=parr[i].values\n",
    "    return df"
   ]
  },
  {
   "cell_type": "code",
   "execution_count": null,
   "metadata": {},
   "outputs": [],
   "source": [
    "def simAB(pitcher,hitter,ispRH=True,isbRH=True,pseason=2019,hseason=2019,season=2019,output=('probs',0)):\n",
    "    '''\n",
    "    This function takes a batter name and a pitcher name and simulates the interaction of those two players. \n",
    "    The function requires specification of if either party is left-handed. \n",
    "    The function can be customized in the following ways: \n",
    "    \n",
    "    pseason: The season in which the named pitcher's data \n",
    "    is pulled from so at bats from past versions of players can be simulated\n",
    "    \n",
    "    hseason: Same as above, but for the hitter\n",
    "    \n",
    "    season: The season in which the interaction takes place can be specified, as different years have \n",
    "    different baseline occurrence rates for each event\n",
    "    \n",
    "    output: This tuple formats the output of the function\n",
    "    Term 1 can be one of three values.\n",
    "    1. 'probs' will give a probability distribution of each event of the simulated at bat\n",
    "    2. 'pa' will simulate one plate appearance randomly using the above distribution and give a result\n",
    "    3. 'statline' will summarize this output into more common baseball statistics\n",
    "    \n",
    "    Term 2 is the number of at bats over which this simulation occurs. \n",
    "    'probs' will not change regardless of this number \n",
    "    '''\n",
    "    pitcher=FP[(FP['pName']==pitcher)&(FP['pseason']==pseason)]\n",
    "    hitter=FH[(FH['hName']==hitter)&(FH['hseason']==hseason)]\n",
    "    atts=[int(isbRH),int(ispRH),season]\n",
    "    atts.append(int(ispRH!=isbRH)*1000)\n",
    "    feats_arr=construct_input(atts,pitcher,hitter)\n",
    "    feats_sc=ss.transform(feats_arr)\n",
    "    preds=model.predict(feats_sc)\n",
    "    preds_clean=np.round(preds,3)\n",
    "    cols=['GB', '2B', '1B', 'K', 'BB', 'PU', 'FB', 'LD', 'HR', 'HBP', '3B']\n",
    "    if output[0]=='probs':\n",
    "        df=pd.DataFrame(data=preds_clean,columns=cols)\n",
    "        return df\n",
    "    elif output[0]=='statline' or output[0]=='pa':\n",
    "        p=(preds_clean[0][0::])\n",
    "        pnew=[round(i,2) for i in p]\n",
    "        pnew[0]=round(1-np.sum(pnew[1::]),2)\n",
    "        if output[0]=='pa':\n",
    "            samps=np.random.choice(a=cols,size=(output[1],1),p=pnew)\n",
    "            return samps\n",
    "        elif output[0]=='statline':\n",
    "            samps=list(np.random.choice(a=cols,size=(output[1]),p=pnew))   \n",
    "            pa=output[1]\n",
    "            ab=pa-samps.count('BB')-samps.count('HBP')\n",
    "            outpa=ab-samps.count('1B')-samps.count('2B')-samps.count('3B')-samps.count('HR')\n",
    "            ip=float(round(outpa/3,0))+float((outpa%3)/10)\n",
    "            ba=round((samps.count('1B')+samps.count('2B')+samps.count('3B')+samps.count('HR'))/ab,3)\n",
    "            hr=samps.count('HR')\n",
    "            db=samps.count('2B')\n",
    "            slg=round(((samps.count('1B')+(2*samps.count('2B'))+(3*samps.count('3B'))+(4*samps.count('HR')))/ab),3)\n",
    "            obp=round((samps.count('1B')+samps.count('2B')+samps.count('3B')+samps.count('HR')+samps.count('BB'))/pa,3)\n",
    "            ops=round(slg+obp,3)\n",
    "            babip_pa=pa-samps.count('BB')-samps.count('HBP')-samps.count('K')-samps.count('HR')\n",
    "            babip=round(((samps.count('1B')+samps.count('2B')+samps.count('3B'))/babip_pa),3)\n",
    "            k=samps.count('K')\n",
    "            bb=samps.count('BB')\n",
    "            whip=round((samps.count('1B')+samps.count('2B')+samps.count('3B')+samps.count('HR')+samps.count('BB'))/ip,2)\n",
    "            statcols=['PA','BA','HR','2B','SLG','OBP','oPS','BABIP','K','BB','pIP','pWHIP']\n",
    "            data=[[pa,ba,hr,db,slg,obp,ops,babip,k,bb,ip,whip]]\n",
    "            df=pd.DataFrame(data=data,columns=statcols)\n",
    "            return df"
   ]
  },
  {
   "cell_type": "code",
   "execution_count": null,
   "metadata": {
    "scrolled": false
   },
   "outputs": [],
   "source": [
    "simAB('Ryan Carpenter','Anthony Rendon',isbRH=False,output=('statline',6_000))"
   ]
  },
  {
   "cell_type": "code",
   "execution_count": null,
   "metadata": {},
   "outputs": [],
   "source": [
    "simAB('Shane Bieber','Miguel Sano',output=('probs',0))"
   ]
  },
  {
   "cell_type": "code",
   "execution_count": null,
   "metadata": {
    "scrolled": true
   },
   "outputs": [],
   "source": [
    "a=list(simAB('Shane Bieber','Miguel Sano',output=('probs',0)).values[0][0::])\n",
    "c=simAB('Shane Bieber','Miguel Sano',output=('probs',0)).columns\n",
    "plt.figure(figsize=(15,10))\n",
    "plt.bar(c,a);\n",
    "plt.title('Shane Bieber v. Miguel Sano Outcomes')\n",
    "plt.ylabel('Percent');"
   ]
  },
  {
   "cell_type": "code",
   "execution_count": null,
   "metadata": {},
   "outputs": [],
   "source": [
    "simAB('Shane Bieber','Miguel Sano',output=('pa',10))"
   ]
  },
  {
   "cell_type": "code",
   "execution_count": null,
   "metadata": {},
   "outputs": [],
   "source": [
    "simAB('Shane Bieber','Miguel Sano',output=('statline',600))"
   ]
  },
  {
   "cell_type": "code",
   "execution_count": null,
   "metadata": {},
   "outputs": [],
   "source": [
    "gamestate_labels=['inning','half','outs','home_runs','away_runs','1stB','2ndB','3rdB']"
   ]
  },
  {
   "cell_type": "code",
   "execution_count": null,
   "metadata": {},
   "outputs": [],
   "source": [
    "#def gamesim(l1,l2,p1,p2,pinn1,pinn2)"
   ]
  },
  {
   "cell_type": "code",
   "execution_count": null,
   "metadata": {},
   "outputs": [],
   "source": [
    "if == \"GB\":\n",
    "    "
   ]
  }
 ],
 "metadata": {
  "kernelspec": {
   "display_name": "Python 3",
   "language": "python",
   "name": "python3"
  },
  "language_info": {
   "codemirror_mode": {
    "name": "ipython",
    "version": 3
   },
   "file_extension": ".py",
   "mimetype": "text/x-python",
   "name": "python",
   "nbconvert_exporter": "python",
   "pygments_lexer": "ipython3",
   "version": "3.7.6"
  }
 },
 "nbformat": 4,
 "nbformat_minor": 4
}
